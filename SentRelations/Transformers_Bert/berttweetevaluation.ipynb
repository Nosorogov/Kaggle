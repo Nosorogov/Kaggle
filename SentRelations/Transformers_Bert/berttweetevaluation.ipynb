{
 "cells": [
  {
   "cell_type": "code",
   "execution_count": 1,
   "id": "cb7348c2",
   "metadata": {
    "_cell_guid": "b1076dfc-b9ad-4769-8c92-a6c4dae69d19",
    "_uuid": "8f2839f25d086af736a60e9eeb907d3b93b6e0e5",
    "execution": {
     "iopub.execute_input": "2021-12-29T19:28:52.235897Z",
     "iopub.status.busy": "2021-12-29T19:28:52.234634Z",
     "iopub.status.idle": "2021-12-29T19:28:57.648887Z",
     "shell.execute_reply": "2021-12-29T19:28:57.647943Z",
     "shell.execute_reply.started": "2021-12-29T19:19:45.229481Z"
    },
    "papermill": {
     "duration": 5.437996,
     "end_time": "2021-12-29T19:28:57.649119",
     "exception": false,
     "start_time": "2021-12-29T19:28:52.211123",
     "status": "completed"
    },
    "tags": []
   },
   "outputs": [
    {
     "name": "stderr",
     "output_type": "stream",
     "text": [
      "2021-12-29 19:28:52.876981: W tensorflow/stream_executor/platform/default/dso_loader.cc:60] Could not load dynamic library 'libcudart.so.11.0'; dlerror: libcudart.so.11.0: cannot open shared object file: No such file or directory; LD_LIBRARY_PATH: /opt/conda/lib\n",
      "2021-12-29 19:28:52.877094: I tensorflow/stream_executor/cuda/cudart_stub.cc:29] Ignore above cudart dlerror if you do not have a GPU set up on your machine.\n"
     ]
    },
    {
     "name": "stdout",
     "output_type": "stream",
     "text": [
      "/kaggle/input/nlp-getting-started/sample_submission.csv\n",
      "/kaggle/input/nlp-getting-started/train.csv\n",
      "/kaggle/input/nlp-getting-started/test.csv\n"
     ]
    }
   ],
   "source": [
    "# This Python 3 environment comes with many helpful analytics libraries installed\n",
    "# It is defined by the kaggle/python Docker image: https://github.com/kaggle/docker-python\n",
    "# For example, here's several helpful packages to load\n",
    "\n",
    "import numpy as np # linear algebra\n",
    "import pandas as pd # data processing, CSV file I/O (e.g. pd.read_csv)\n",
    "import tensorflow as tf\n",
    "# Input data files are available in the read-only \"../input/\" directory\n",
    "# For example, running this (by clicking run or pressing Shift+Enter) will list all files under the input directory\n",
    "\n",
    "import os\n",
    "for dirname, _, filenames in os.walk('/kaggle/input'):\n",
    "    for filename in filenames:\n",
    "        print(os.path.join(dirname, filename))\n",
    "\n",
    "# You can write up to 20GB to the current directory (/kaggle/working/) that gets preserved as output when you create a version using \"Save & Run All\" \n",
    "# You can also write temporary files to /kaggle/temp/, but they won't be saved outside of the current session"
   ]
  },
  {
   "cell_type": "code",
   "execution_count": 2,
   "id": "b8c583d6",
   "metadata": {
    "execution": {
     "iopub.execute_input": "2021-12-29T19:28:57.700626Z",
     "iopub.status.busy": "2021-12-29T19:28:57.699483Z",
     "iopub.status.idle": "2021-12-29T19:29:03.671435Z",
     "shell.execute_reply": "2021-12-29T19:29:03.670354Z",
     "shell.execute_reply.started": "2021-12-29T19:19:51.226549Z"
    },
    "papermill": {
     "duration": 5.995806,
     "end_time": "2021-12-29T19:29:03.671668",
     "exception": false,
     "start_time": "2021-12-29T19:28:57.675862",
     "status": "completed"
    },
    "tags": []
   },
   "outputs": [
    {
     "name": "stderr",
     "output_type": "stream",
     "text": [
      "2021-12-29 19:28:57.707911: I tensorflow/compiler/jit/xla_cpu_device.cc:41] Not creating XLA devices, tf_xla_enable_xla_devices not set\n",
      "2021-12-29 19:28:57.711171: W tensorflow/stream_executor/platform/default/dso_loader.cc:60] Could not load dynamic library 'libcuda.so.1'; dlerror: libcuda.so.1: cannot open shared object file: No such file or directory; LD_LIBRARY_PATH: /opt/conda/lib\n",
      "2021-12-29 19:28:57.711214: W tensorflow/stream_executor/cuda/cuda_driver.cc:326] failed call to cuInit: UNKNOWN ERROR (303)\n",
      "2021-12-29 19:28:57.711249: I tensorflow/stream_executor/cuda/cuda_diagnostics.cc:156] kernel driver does not appear to be running on this host (5aee23d67f4b): /proc/driver/nvidia/version does not exist\n",
      "2021-12-29 19:28:57.718871: I tensorflow/core/platform/cpu_feature_guard.cc:142] This TensorFlow binary is optimized with oneAPI Deep Neural Network Library (oneDNN) to use the following CPU instructions in performance-critical operations:  AVX2 FMA\n",
      "To enable them in other operations, rebuild TensorFlow with the appropriate compiler flags.\n",
      "2021-12-29 19:28:57.720332: I tensorflow/compiler/jit/xla_gpu_device.cc:99] Not creating XLA devices, tf_xla_enable_xla_devices not set\n",
      "2021-12-29 19:28:57.751667: I tensorflow/core/distributed_runtime/rpc/grpc_channel.cc:301] Initialize GrpcChannelCache for job worker -> {0 -> 10.0.0.2:8470}\n",
      "2021-12-29 19:28:57.751751: I tensorflow/core/distributed_runtime/rpc/grpc_channel.cc:301] Initialize GrpcChannelCache for job localhost -> {0 -> localhost:30020}\n",
      "2021-12-29 19:28:57.775454: I tensorflow/core/distributed_runtime/rpc/grpc_channel.cc:301] Initialize GrpcChannelCache for job worker -> {0 -> 10.0.0.2:8470}\n",
      "2021-12-29 19:28:57.775524: I tensorflow/core/distributed_runtime/rpc/grpc_channel.cc:301] Initialize GrpcChannelCache for job localhost -> {0 -> localhost:30020}\n",
      "2021-12-29 19:28:57.778581: I tensorflow/core/distributed_runtime/rpc/grpc_server_lib.cc:411] Started server with target: grpc://localhost:30020\n"
     ]
    }
   ],
   "source": [
    "try:\n",
    "    tpu = tf.distribute.cluster_resolver.TPUClusterResolver()\n",
    "    tf.config.experimental_connect_to_cluster(tpu)\n",
    "    tf.tpu.experimental.initialize_tpu_system(tpu)\n",
    "    strategy = tf.distribute.experimental.TPUStrategy(tpu)\n",
    "except ValueError:\n",
    "    strategy = tf.distribute.get_strategy() # for CPU and single GPU\n",
    "    print('Number of replicas:', strategy.num_replicas_in_sync)"
   ]
  },
  {
   "cell_type": "code",
   "execution_count": 3,
   "id": "be91af4b",
   "metadata": {
    "execution": {
     "iopub.execute_input": "2021-12-29T19:29:03.728512Z",
     "iopub.status.busy": "2021-12-29T19:29:03.727616Z",
     "iopub.status.idle": "2021-12-29T19:29:05.766233Z",
     "shell.execute_reply": "2021-12-29T19:29:05.766792Z",
     "shell.execute_reply.started": "2021-12-29T19:19:57.237872Z"
    },
    "papermill": {
     "duration": 2.071545,
     "end_time": "2021-12-29T19:29:05.766978",
     "exception": false,
     "start_time": "2021-12-29T19:29:03.695433",
     "status": "completed"
    },
    "tags": []
   },
   "outputs": [],
   "source": [
    "from transformers import BertTokenizer, TFBertModel, AutoTokenizer,TFAutoModel\n",
    "import tensorflow as tf"
   ]
  },
  {
   "cell_type": "code",
   "execution_count": 4,
   "id": "5cb164ff",
   "metadata": {
    "execution": {
     "iopub.execute_input": "2021-12-29T19:29:05.810822Z",
     "iopub.status.busy": "2021-12-29T19:29:05.810146Z",
     "iopub.status.idle": "2021-12-29T19:29:49.882686Z",
     "shell.execute_reply": "2021-12-29T19:29:49.883328Z",
     "shell.execute_reply.started": "2021-12-29T19:19:59.354718Z"
    },
    "papermill": {
     "duration": 44.096313,
     "end_time": "2021-12-29T19:29:49.883525",
     "exception": false,
     "start_time": "2021-12-29T19:29:05.787212",
     "status": "completed"
    },
    "tags": []
   },
   "outputs": [
    {
     "data": {
      "application/vnd.jupyter.widget-view+json": {
       "model_id": "003d5f4f961e4924b8a4e95b2ac906da",
       "version_major": 2,
       "version_minor": 0
      },
      "text/plain": [
       "Downloading:   0%|          | 0.00/996k [00:00<?, ?B/s]"
      ]
     },
     "metadata": {},
     "output_type": "display_data"
    },
    {
     "data": {
      "application/vnd.jupyter.widget-view+json": {
       "model_id": "362695c4544d4e9f9fe9c318a4570cfe",
       "version_major": 2,
       "version_minor": 0
      },
      "text/plain": [
       "Downloading:   0%|          | 0.00/29.0 [00:00<?, ?B/s]"
      ]
     },
     "metadata": {},
     "output_type": "display_data"
    },
    {
     "data": {
      "application/vnd.jupyter.widget-view+json": {
       "model_id": "3383073420904500bcf10b187738f0de",
       "version_major": 2,
       "version_minor": 0
      },
      "text/plain": [
       "Downloading:   0%|          | 0.00/1.96M [00:00<?, ?B/s]"
      ]
     },
     "metadata": {},
     "output_type": "display_data"
    },
    {
     "data": {
      "application/vnd.jupyter.widget-view+json": {
       "model_id": "400c5be3af284ea691f4f60aad4ab7e9",
       "version_major": 2,
       "version_minor": 0
      },
      "text/plain": [
       "Downloading:   0%|          | 0.00/625 [00:00<?, ?B/s]"
      ]
     },
     "metadata": {},
     "output_type": "display_data"
    },
    {
     "data": {
      "application/vnd.jupyter.widget-view+json": {
       "model_id": "1e6231db826947ea860b59cd4c90d311",
       "version_major": 2,
       "version_minor": 0
      },
      "text/plain": [
       "Downloading:   0%|          | 0.00/1.08G [00:00<?, ?B/s]"
      ]
     },
     "metadata": {},
     "output_type": "display_data"
    },
    {
     "name": "stderr",
     "output_type": "stream",
     "text": [
      "Some layers from the model checkpoint at bert-base-multilingual-cased were not used when initializing TFBertModel: ['nsp___cls', 'mlm___cls']\n",
      "- This IS expected if you are initializing TFBertModel from the checkpoint of a model trained on another task or with another architecture (e.g. initializing a BertForSequenceClassification model from a BertForPreTraining model).\n",
      "- This IS NOT expected if you are initializing TFBertModel from the checkpoint of a model that you expect to be exactly identical (initializing a BertForSequenceClassification model from a BertForSequenceClassification model).\n",
      "All the layers of TFBertModel were initialized from the model checkpoint at bert-base-multilingual-cased.\n",
      "If your task is similar to the task the model of the checkpoint was trained on, you can already use TFBertModel for predictions without further training.\n"
     ]
    },
    {
     "name": "stdout",
     "output_type": "stream",
     "text": [
      "Model: \"tf_bert_model\"\n",
      "_________________________________________________________________\n",
      "Layer (type)                 Output Shape              Param #   \n",
      "=================================================================\n",
      "bert (TFBertMainLayer)       multiple                  177853440 \n",
      "=================================================================\n",
      "Total params: 177,853,440\n",
      "Trainable params: 177,853,440\n",
      "Non-trainable params: 0\n",
      "_________________________________________________________________\n"
     ]
    }
   ],
   "source": [
    "# model_roBerta ='joeddav/xlm-roberta-large-xnli'\n",
    "model_Bert = 'bert-base-multilingual-cased'\n",
    "tokenizer = BertTokenizer.from_pretrained(model_Bert)\n",
    "model = TFBertModel.from_pretrained(model_Bert)\n",
    "model.summary()"
   ]
  },
  {
   "cell_type": "code",
   "execution_count": 5,
   "id": "a343b5f7",
   "metadata": {
    "execution": {
     "iopub.execute_input": "2021-12-29T19:29:49.936134Z",
     "iopub.status.busy": "2021-12-29T19:29:49.935484Z",
     "iopub.status.idle": "2021-12-29T19:29:49.992441Z",
     "shell.execute_reply": "2021-12-29T19:29:49.991911Z",
     "shell.execute_reply.started": "2021-12-29T19:20:45.812248Z"
    },
    "papermill": {
     "duration": 0.085678,
     "end_time": "2021-12-29T19:29:49.992586",
     "exception": false,
     "start_time": "2021-12-29T19:29:49.906908",
     "status": "completed"
    },
    "tags": []
   },
   "outputs": [],
   "source": [
    "train = pd.read_csv('../input/nlp-getting-started/train.csv')"
   ]
  },
  {
   "cell_type": "code",
   "execution_count": 6,
   "id": "b3de591a",
   "metadata": {
    "execution": {
     "iopub.execute_input": "2021-12-29T19:29:50.043846Z",
     "iopub.status.busy": "2021-12-29T19:29:50.043147Z",
     "iopub.status.idle": "2021-12-29T19:29:50.070081Z",
     "shell.execute_reply": "2021-12-29T19:29:50.069494Z",
     "shell.execute_reply.started": "2021-12-29T19:20:45.866217Z"
    },
    "papermill": {
     "duration": 0.054595,
     "end_time": "2021-12-29T19:29:50.070222",
     "exception": false,
     "start_time": "2021-12-29T19:29:50.015627",
     "status": "completed"
    },
    "tags": []
   },
   "outputs": [
    {
     "data": {
      "text/html": [
       "<div>\n",
       "<style scoped>\n",
       "    .dataframe tbody tr th:only-of-type {\n",
       "        vertical-align: middle;\n",
       "    }\n",
       "\n",
       "    .dataframe tbody tr th {\n",
       "        vertical-align: top;\n",
       "    }\n",
       "\n",
       "    .dataframe thead th {\n",
       "        text-align: right;\n",
       "    }\n",
       "</style>\n",
       "<table border=\"1\" class=\"dataframe\">\n",
       "  <thead>\n",
       "    <tr style=\"text-align: right;\">\n",
       "      <th></th>\n",
       "      <th>id</th>\n",
       "      <th>keyword</th>\n",
       "      <th>location</th>\n",
       "      <th>text</th>\n",
       "      <th>target</th>\n",
       "    </tr>\n",
       "  </thead>\n",
       "  <tbody>\n",
       "    <tr>\n",
       "      <th>10</th>\n",
       "      <td>16</td>\n",
       "      <td>NaN</td>\n",
       "      <td>NaN</td>\n",
       "      <td>Three people died from the heat wave so far</td>\n",
       "      <td>1</td>\n",
       "    </tr>\n",
       "    <tr>\n",
       "      <th>11</th>\n",
       "      <td>17</td>\n",
       "      <td>NaN</td>\n",
       "      <td>NaN</td>\n",
       "      <td>Haha South Tampa is getting flooded hah- WAIT ...</td>\n",
       "      <td>1</td>\n",
       "    </tr>\n",
       "    <tr>\n",
       "      <th>12</th>\n",
       "      <td>18</td>\n",
       "      <td>NaN</td>\n",
       "      <td>NaN</td>\n",
       "      <td>#raining #flooding #Florida #TampaBay #Tampa 1...</td>\n",
       "      <td>1</td>\n",
       "    </tr>\n",
       "    <tr>\n",
       "      <th>13</th>\n",
       "      <td>19</td>\n",
       "      <td>NaN</td>\n",
       "      <td>NaN</td>\n",
       "      <td>#Flood in Bago Myanmar #We arrived Bago</td>\n",
       "      <td>1</td>\n",
       "    </tr>\n",
       "    <tr>\n",
       "      <th>14</th>\n",
       "      <td>20</td>\n",
       "      <td>NaN</td>\n",
       "      <td>NaN</td>\n",
       "      <td>Damage to school bus on 80 in multi car crash ...</td>\n",
       "      <td>1</td>\n",
       "    </tr>\n",
       "    <tr>\n",
       "      <th>...</th>\n",
       "      <td>...</td>\n",
       "      <td>...</td>\n",
       "      <td>...</td>\n",
       "      <td>...</td>\n",
       "      <td>...</td>\n",
       "    </tr>\n",
       "    <tr>\n",
       "      <th>7608</th>\n",
       "      <td>10869</td>\n",
       "      <td>NaN</td>\n",
       "      <td>NaN</td>\n",
       "      <td>Two giant cranes holding a bridge collapse int...</td>\n",
       "      <td>1</td>\n",
       "    </tr>\n",
       "    <tr>\n",
       "      <th>7609</th>\n",
       "      <td>10870</td>\n",
       "      <td>NaN</td>\n",
       "      <td>NaN</td>\n",
       "      <td>@aria_ahrary @TheTawniest The out of control w...</td>\n",
       "      <td>1</td>\n",
       "    </tr>\n",
       "    <tr>\n",
       "      <th>7610</th>\n",
       "      <td>10871</td>\n",
       "      <td>NaN</td>\n",
       "      <td>NaN</td>\n",
       "      <td>M1.94 [01:04 UTC]?5km S of Volcano Hawaii. htt...</td>\n",
       "      <td>1</td>\n",
       "    </tr>\n",
       "    <tr>\n",
       "      <th>7611</th>\n",
       "      <td>10872</td>\n",
       "      <td>NaN</td>\n",
       "      <td>NaN</td>\n",
       "      <td>Police investigating after an e-bike collided ...</td>\n",
       "      <td>1</td>\n",
       "    </tr>\n",
       "    <tr>\n",
       "      <th>7612</th>\n",
       "      <td>10873</td>\n",
       "      <td>NaN</td>\n",
       "      <td>NaN</td>\n",
       "      <td>The Latest: More Homes Razed by Northern Calif...</td>\n",
       "      <td>1</td>\n",
       "    </tr>\n",
       "  </tbody>\n",
       "</table>\n",
       "<p>7603 rows × 5 columns</p>\n",
       "</div>"
      ],
      "text/plain": [
       "         id keyword location  \\\n",
       "10       16     NaN      NaN   \n",
       "11       17     NaN      NaN   \n",
       "12       18     NaN      NaN   \n",
       "13       19     NaN      NaN   \n",
       "14       20     NaN      NaN   \n",
       "...     ...     ...      ...   \n",
       "7608  10869     NaN      NaN   \n",
       "7609  10870     NaN      NaN   \n",
       "7610  10871     NaN      NaN   \n",
       "7611  10872     NaN      NaN   \n",
       "7612  10873     NaN      NaN   \n",
       "\n",
       "                                                   text  target  \n",
       "10          Three people died from the heat wave so far       1  \n",
       "11    Haha South Tampa is getting flooded hah- WAIT ...       1  \n",
       "12    #raining #flooding #Florida #TampaBay #Tampa 1...       1  \n",
       "13              #Flood in Bago Myanmar #We arrived Bago       1  \n",
       "14    Damage to school bus on 80 in multi car crash ...       1  \n",
       "...                                                 ...     ...  \n",
       "7608  Two giant cranes holding a bridge collapse int...       1  \n",
       "7609  @aria_ahrary @TheTawniest The out of control w...       1  \n",
       "7610  M1.94 [01:04 UTC]?5km S of Volcano Hawaii. htt...       1  \n",
       "7611  Police investigating after an e-bike collided ...       1  \n",
       "7612  The Latest: More Homes Razed by Northern Calif...       1  \n",
       "\n",
       "[7603 rows x 5 columns]"
      ]
     },
     "execution_count": 6,
     "metadata": {},
     "output_type": "execute_result"
    }
   ],
   "source": [
    "train[10:]"
   ]
  },
  {
   "cell_type": "code",
   "execution_count": 7,
   "id": "7762435f",
   "metadata": {
    "execution": {
     "iopub.execute_input": "2021-12-29T19:29:50.122198Z",
     "iopub.status.busy": "2021-12-29T19:29:50.121543Z",
     "iopub.status.idle": "2021-12-29T19:29:50.130601Z",
     "shell.execute_reply": "2021-12-29T19:29:50.131161Z",
     "shell.execute_reply.started": "2021-12-29T19:20:45.893851Z"
    },
    "papermill": {
     "duration": 0.036413,
     "end_time": "2021-12-29T19:29:50.131340",
     "exception": false,
     "start_time": "2021-12-29T19:29:50.094927",
     "status": "completed"
    },
    "tags": []
   },
   "outputs": [],
   "source": [
    "x_train = pd.DataFrame(train, columns = {'id','text'})\n",
    "#y_train = pd.DataFrame(train, columns = {'target'})\n",
    "y_train = train[['target']]"
   ]
  },
  {
   "cell_type": "code",
   "execution_count": 8,
   "id": "5e6efa8c",
   "metadata": {
    "execution": {
     "iopub.execute_input": "2021-12-29T19:29:50.198647Z",
     "iopub.status.busy": "2021-12-29T19:29:50.197972Z",
     "iopub.status.idle": "2021-12-29T19:29:50.484274Z",
     "shell.execute_reply": "2021-12-29T19:29:50.484777Z",
     "shell.execute_reply.started": "2021-12-29T19:20:45.904786Z"
    },
    "papermill": {
     "duration": 0.330069,
     "end_time": "2021-12-29T19:29:50.484955",
     "exception": false,
     "start_time": "2021-12-29T19:29:50.154886",
     "status": "completed"
    },
    "tags": []
   },
   "outputs": [
    {
     "data": {
      "text/html": [
       "<div>\n",
       "<style scoped>\n",
       "    .dataframe tbody tr th:only-of-type {\n",
       "        vertical-align: middle;\n",
       "    }\n",
       "\n",
       "    .dataframe tbody tr th {\n",
       "        vertical-align: top;\n",
       "    }\n",
       "\n",
       "    .dataframe thead th {\n",
       "        text-align: right;\n",
       "    }\n",
       "</style>\n",
       "<table border=\"1\" class=\"dataframe\">\n",
       "  <thead>\n",
       "    <tr style=\"text-align: right;\">\n",
       "      <th></th>\n",
       "      <th>text</th>\n",
       "      <th>id</th>\n",
       "    </tr>\n",
       "  </thead>\n",
       "  <tbody>\n",
       "    <tr>\n",
       "      <th>0</th>\n",
       "      <td>Our Deeds are the Reason of this earthquake Ma...</td>\n",
       "      <td>1</td>\n",
       "    </tr>\n",
       "    <tr>\n",
       "      <th>1</th>\n",
       "      <td>Forest fire near La Ronge Sask Canada</td>\n",
       "      <td>4</td>\n",
       "    </tr>\n",
       "    <tr>\n",
       "      <th>2</th>\n",
       "      <td>All residents asked to shelter in place are be...</td>\n",
       "      <td>5</td>\n",
       "    </tr>\n",
       "    <tr>\n",
       "      <th>3</th>\n",
       "      <td>people receive wildfires evacuation orders in...</td>\n",
       "      <td>6</td>\n",
       "    </tr>\n",
       "    <tr>\n",
       "      <th>4</th>\n",
       "      <td>Just got sent this photo from Ruby Alaska as s...</td>\n",
       "      <td>7</td>\n",
       "    </tr>\n",
       "  </tbody>\n",
       "</table>\n",
       "</div>"
      ],
      "text/plain": [
       "                                                text  id\n",
       "0  Our Deeds are the Reason of this earthquake Ma...   1\n",
       "1              Forest fire near La Ronge Sask Canada   4\n",
       "2  All residents asked to shelter in place are be...   5\n",
       "3   people receive wildfires evacuation orders in...   6\n",
       "4  Just got sent this photo from Ruby Alaska as s...   7"
      ]
     },
     "execution_count": 8,
     "metadata": {},
     "output_type": "execute_result"
    }
   ],
   "source": [
    "import re\n",
    "import string\n",
    "def remove_noise(text):\n",
    "    text = re.sub('\\[.*?\\]', '', text)\n",
    "    text = re.sub('https?://\\S+|www\\.\\S+', '', text)\n",
    "    text = re.sub('<.*?>+', '', text)\n",
    "    text = re.sub('[%s]' % re.escape(string.punctuation), '', text)\n",
    "    text = re.sub('\\n', '', text)\n",
    "    text = re.sub('\\w*\\d\\w*', '', text)\n",
    "    text = re.sub('ûò', '', text)\n",
    "    return text\n",
    "x_train.text = x_train.text.apply(lambda x: remove_noise(x))\n",
    "x_train.head()"
   ]
  },
  {
   "cell_type": "code",
   "execution_count": 9,
   "id": "a55ca438",
   "metadata": {
    "execution": {
     "iopub.execute_input": "2021-12-29T19:29:50.536639Z",
     "iopub.status.busy": "2021-12-29T19:29:50.536025Z",
     "iopub.status.idle": "2021-12-29T19:29:50.542893Z",
     "shell.execute_reply": "2021-12-29T19:29:50.542242Z",
     "shell.execute_reply.started": "2021-12-29T19:20:46.914915Z"
    },
    "papermill": {
     "duration": 0.034224,
     "end_time": "2021-12-29T19:29:50.543034",
     "exception": false,
     "start_time": "2021-12-29T19:29:50.508810",
     "status": "completed"
    },
    "tags": []
   },
   "outputs": [],
   "source": [
    "SEQ_LEN = 100 #len(x_train['text'])  # 236#max(train.astype('str').applymap(lambda x: len(x)).max())\n",
    "\n",
    "def bert_encode(df, tokenizer):    \n",
    "    batch_tweets = df['text'].tolist()\n",
    "    \n",
    "    tokens = tokenizer(batch_tweets, max_length = SEQ_LEN,\n",
    "                   truncation=True, padding='max_length',\n",
    "                   add_special_tokens=True, return_attention_mask=True,\n",
    "                   return_token_type_ids=True, #only for BERT\n",
    "                   return_tensors='tf')\n",
    "    #tokens['input_ids'] = tf.reshape(tokens['input_ids'], [7613, 10, 10])\n",
    "    #tokens['attention_mask'] = tf.reshape(tokens['attention_mask'], [7613, 10, 10])\n",
    "    #tokens['token_type_ids'] = tf.reshape(tokens['token_type_ids'], [7613, 10, 10])\n",
    "    inputs = {\n",
    "          'input_ids': tokens['input_ids'], \n",
    "          'attention_mask': tokens['attention_mask'],\n",
    "           'token_type_ids': tokens['token_type_ids']  \n",
    "    } #  only for BERT\n",
    "    return inputs"
   ]
  },
  {
   "cell_type": "code",
   "execution_count": 10,
   "id": "d59606b9",
   "metadata": {
    "execution": {
     "iopub.execute_input": "2021-12-29T19:29:50.597680Z",
     "iopub.status.busy": "2021-12-29T19:29:50.597081Z",
     "iopub.status.idle": "2021-12-29T19:29:54.440860Z",
     "shell.execute_reply": "2021-12-29T19:29:54.440246Z",
     "shell.execute_reply.started": "2021-12-29T19:20:46.941107Z"
    },
    "papermill": {
     "duration": 3.870693,
     "end_time": "2021-12-29T19:29:54.441018",
     "exception": false,
     "start_time": "2021-12-29T19:29:50.570325",
     "status": "completed"
    },
    "tags": []
   },
   "outputs": [
    {
     "data": {
      "text/plain": [
       "{'input_ids': <tf.Tensor: shape=(7613, 100), dtype=int32, numpy=\n",
       " array([[  101, 18465, 18634, ...,     0,     0,     0],\n",
       "        [  101, 17666, 13559, ...,     0,     0,     0],\n",
       "        [  101, 11101, 22058, ...,     0,     0,     0],\n",
       "        ...,\n",
       "        [  101,   156, 10108, ...,     0,     0,     0],\n",
       "        [  101, 18051, 10106, ...,     0,     0,     0],\n",
       "        [  101, 10117, 25139, ...,     0,     0,     0]], dtype=int32)>,\n",
       " 'attention_mask': <tf.Tensor: shape=(7613, 100), dtype=int32, numpy=\n",
       " array([[1, 1, 1, ..., 0, 0, 0],\n",
       "        [1, 1, 1, ..., 0, 0, 0],\n",
       "        [1, 1, 1, ..., 0, 0, 0],\n",
       "        ...,\n",
       "        [1, 1, 1, ..., 0, 0, 0],\n",
       "        [1, 1, 1, ..., 0, 0, 0],\n",
       "        [1, 1, 1, ..., 0, 0, 0]], dtype=int32)>,\n",
       " 'token_type_ids': <tf.Tensor: shape=(7613, 100), dtype=int32, numpy=\n",
       " array([[0, 0, 0, ..., 0, 0, 0],\n",
       "        [0, 0, 0, ..., 0, 0, 0],\n",
       "        [0, 0, 0, ..., 0, 0, 0],\n",
       "        ...,\n",
       "        [0, 0, 0, ..., 0, 0, 0],\n",
       "        [0, 0, 0, ..., 0, 0, 0],\n",
       "        [0, 0, 0, ..., 0, 0, 0]], dtype=int32)>}"
      ]
     },
     "execution_count": 10,
     "metadata": {},
     "output_type": "execute_result"
    }
   ],
   "source": [
    "x_train_input = bert_encode(x_train, tokenizer)\n",
    "x_train_input # = tf.reshape(x_train_input, [7613, 10, 10])"
   ]
  },
  {
   "cell_type": "code",
   "execution_count": 11,
   "id": "777a0a37",
   "metadata": {
    "execution": {
     "iopub.execute_input": "2021-12-29T19:29:54.502755Z",
     "iopub.status.busy": "2021-12-29T19:29:54.502065Z",
     "iopub.status.idle": "2021-12-29T19:29:54.503967Z",
     "shell.execute_reply": "2021-12-29T19:29:54.504453Z",
     "shell.execute_reply.started": "2021-12-29T19:23:21.925313Z"
    },
    "papermill": {
     "duration": 0.03839,
     "end_time": "2021-12-29T19:29:54.504620",
     "exception": false,
     "start_time": "2021-12-29T19:29:54.466230",
     "status": "completed"
    },
    "tags": []
   },
   "outputs": [],
   "source": [
    "from tensorflow.keras import regularizers\n",
    "\n",
    "def build_model():   # hp\n",
    "    #FBertModel\n",
    "    encoder = TFBertModel.from_pretrained(model_Bert)\n",
    "    input_ids = tf.keras.Input(shape=([SEQ_LEN, ]), dtype=tf.int32, name=\"input_ids\")\n",
    "    attention_mask = tf.keras.Input(shape=([SEQ_LEN, ]), dtype=tf.int32, name=\"attention_mask\")\n",
    "    token_type_ids = tf.keras.Input(shape=([SEQ_LEN, ]), \n",
    "                                    dtype=tf.int32,  name=\"token_type_ids\") # only for BERT  \n",
    "        \n",
    "    embedding = encoder([input_ids, attention_mask, token_type_ids])[0] # [1] #  only for BERT\n",
    "    print(embedding)\n",
    "    inputs=[input_ids, attention_mask, token_type_ids] #   only for Bert\n",
    "    hp_units1 = 128 # hp.Int('Inits1', min_value = 32, max_value = 512, step = 32)\n",
    "    hp_units2 = 32 #hp.Int('Inits2', min_value = 32, max_value = 512, step = 32), kernel_regularizer=regularizers.l2(l2=1e-4)\n",
    "    #x = tf.keras.layers.Conv1D(128, 7, activation=tf.nn.relu)(embedding)\n",
    "    #x = tf.keras.layers.MaxPool1D(7)(x)\n",
    "    #x = tf.keras.layers.Conv1D(64, 7, activation=tf.nn.relu)(x)\n",
    "    #x = tf.keras.layers.MaxPool1D(7)(x)\n",
    "    #x = tf.keras.layers.Conv1D(32, 7, activation=tf.nn.relu)(x)\n",
    "    #x = tf.keras.layers.GlobalMaxPool1D()(x) \n",
    "    #x = tf.keras.layers.Flatten()(x)\n",
    "    x = tf.keras.layers.Dense(units = hp_units1, activation=tf.nn.relu)(embedding[:,0,:])  #\n",
    "    # x = tf.keras.layers.Dropout(0.5)(x)\n",
    "    output = tf.keras.layers.Dense(2, activation='softmax')(x)    \n",
    "    model = tf.keras.Model(inputs=inputs, outputs=output)\n",
    "    hp_learning_rate = 1e-6 # hp.Choise('learning_rate', values = [1e-4, 1e-5, 1e-6, 1e-7, 1e-8, 1e-9]) hp_learning_ratesparse_ sparse_categorical\n",
    "    model.compile(tf.keras.optimizers.Adam(learning_rate = hp_learning_rate), loss='sparse_categorical_crossentropy', metrics=['accuracy'])   \n",
    "    return model "
   ]
  },
  {
   "cell_type": "code",
   "execution_count": 12,
   "id": "77cd79ed",
   "metadata": {
    "execution": {
     "iopub.execute_input": "2021-12-29T19:29:54.559114Z",
     "iopub.status.busy": "2021-12-29T19:29:54.556793Z",
     "iopub.status.idle": "2021-12-29T19:30:19.917961Z",
     "shell.execute_reply": "2021-12-29T19:30:19.917128Z",
     "shell.execute_reply.started": "2021-12-29T19:23:21.940267Z"
    },
    "papermill": {
     "duration": 25.388326,
     "end_time": "2021-12-29T19:30:19.918156",
     "exception": false,
     "start_time": "2021-12-29T19:29:54.529830",
     "status": "completed"
    },
    "tags": []
   },
   "outputs": [
    {
     "name": "stderr",
     "output_type": "stream",
     "text": [
      "Some layers from the model checkpoint at bert-base-multilingual-cased were not used when initializing TFBertModel: ['nsp___cls', 'mlm___cls']\n",
      "- This IS expected if you are initializing TFBertModel from the checkpoint of a model trained on another task or with another architecture (e.g. initializing a BertForSequenceClassification model from a BertForPreTraining model).\n",
      "- This IS NOT expected if you are initializing TFBertModel from the checkpoint of a model that you expect to be exactly identical (initializing a BertForSequenceClassification model from a BertForSequenceClassification model).\n",
      "All the layers of TFBertModel were initialized from the model checkpoint at bert-base-multilingual-cased.\n",
      "If your task is similar to the task the model of the checkpoint was trained on, you can already use TFBertModel for predictions without further training.\n"
     ]
    },
    {
     "name": "stdout",
     "output_type": "stream",
     "text": [
      "KerasTensor(type_spec=TensorSpec(shape=(None, 100, 768), dtype=tf.float32, name=None), name='tf_bert_model_1/bert/encoder/layer_._11/output/LayerNorm/batchnorm/add_1:0', description=\"created by layer 'tf_bert_model_1'\")\n",
      "Model: \"model\"\n",
      "__________________________________________________________________________________________________\n",
      "Layer (type)                    Output Shape         Param #     Connected to                     \n",
      "==================================================================================================\n",
      "input_ids (InputLayer)          [(None, 100)]        0                                            \n",
      "__________________________________________________________________________________________________\n",
      "attention_mask (InputLayer)     [(None, 100)]        0                                            \n",
      "__________________________________________________________________________________________________\n",
      "token_type_ids (InputLayer)     [(None, 100)]        0                                            \n",
      "__________________________________________________________________________________________________\n",
      "tf_bert_model_1 (TFBertModel)   TFBaseModelOutputWit 177853440   input_ids[0][0]                  \n",
      "                                                                 attention_mask[0][0]             \n",
      "                                                                 token_type_ids[0][0]             \n",
      "__________________________________________________________________________________________________\n",
      "tf.__operators__.getitem (Slici (None, 768)          0           tf_bert_model_1[0][0]            \n",
      "__________________________________________________________________________________________________\n",
      "dense (Dense)                   (None, 128)          98432       tf.__operators__.getitem[0][0]   \n",
      "__________________________________________________________________________________________________\n",
      "dense_1 (Dense)                 (None, 2)            258         dense[0][0]                      \n",
      "==================================================================================================\n",
      "Total params: 177,952,130\n",
      "Trainable params: 177,952,130\n",
      "Non-trainable params: 0\n",
      "__________________________________________________________________________________________________\n"
     ]
    }
   ],
   "source": [
    "with strategy.scope(): # defines the compute distribution policy for building the model. or in other words: makes sure that the model is created on the TPU/GPU/CPU, depending on to what the Accelerator is set in the Notebook Settings\n",
    "    model = build_model() # our model is being built\n",
    "    model.summary()       # let's look at some of its properties"
   ]
  },
  {
   "cell_type": "code",
   "execution_count": 13,
   "id": "8646ac19",
   "metadata": {
    "execution": {
     "iopub.execute_input": "2021-12-29T19:30:19.980746Z",
     "iopub.status.busy": "2021-12-29T19:30:19.979991Z",
     "iopub.status.idle": "2021-12-29T19:30:19.983784Z",
     "shell.execute_reply": "2021-12-29T19:30:19.983218Z",
     "shell.execute_reply.started": "2021-12-29T19:23:42.135050Z"
    },
    "papermill": {
     "duration": 0.037675,
     "end_time": "2021-12-29T19:30:19.983926",
     "exception": false,
     "start_time": "2021-12-29T19:30:19.946251",
     "status": "completed"
    },
    "tags": []
   },
   "outputs": [],
   "source": [
    "for key in x_train_input.keys():\n",
    "    x_train_input[key] = x_train_input[key][:,:SEQ_LEN]"
   ]
  },
  {
   "cell_type": "code",
   "execution_count": 14,
   "id": "d423a2bc",
   "metadata": {
    "execution": {
     "iopub.execute_input": "2021-12-29T19:30:20.043123Z",
     "iopub.status.busy": "2021-12-29T19:30:20.042158Z",
     "iopub.status.idle": "2021-12-29T19:34:14.755048Z",
     "shell.execute_reply": "2021-12-29T19:34:14.754230Z",
     "shell.execute_reply.started": "2021-12-29T19:23:42.145468Z"
    },
    "papermill": {
     "duration": 234.745472,
     "end_time": "2021-12-29T19:34:14.755268",
     "exception": false,
     "start_time": "2021-12-29T19:30:20.009796",
     "status": "completed"
    },
    "tags": []
   },
   "outputs": [
    {
     "name": "stdout",
     "output_type": "stream",
     "text": [
      "Epoch 1/20\n",
      "48/48 [==============================] - 133s 1s/step - loss: 0.6575 - accuracy: 0.6130 - val_loss: 0.5524 - val_accuracy: 0.7446\n",
      "Epoch 2/20\n",
      "48/48 [==============================] - 5s 109ms/step - loss: 0.5576 - accuracy: 0.7262 - val_loss: 0.4851 - val_accuracy: 0.7643\n",
      "Epoch 3/20\n",
      "48/48 [==============================] - 5s 110ms/step - loss: 0.5105 - accuracy: 0.7584 - val_loss: 0.4550 - val_accuracy: 0.7965\n",
      "Epoch 4/20\n",
      "48/48 [==============================] - 5s 110ms/step - loss: 0.4781 - accuracy: 0.7798 - val_loss: 0.4354 - val_accuracy: 0.8076\n",
      "Epoch 5/20\n",
      "48/48 [==============================] - 5s 110ms/step - loss: 0.4536 - accuracy: 0.7964 - val_loss: 0.4238 - val_accuracy: 0.8155\n",
      "Epoch 6/20\n",
      "48/48 [==============================] - 5s 110ms/step - loss: 0.4442 - accuracy: 0.7946 - val_loss: 0.4193 - val_accuracy: 0.8214\n",
      "Epoch 7/20\n",
      "48/48 [==============================] - 5s 111ms/step - loss: 0.4387 - accuracy: 0.8007 - val_loss: 0.4245 - val_accuracy: 0.8207\n",
      "Epoch 8/20\n",
      "48/48 [==============================] - 5s 110ms/step - loss: 0.4189 - accuracy: 0.8133 - val_loss: 0.4197 - val_accuracy: 0.8214\n",
      "Epoch 9/20\n",
      "48/48 [==============================] - 5s 111ms/step - loss: 0.4072 - accuracy: 0.8207 - val_loss: 0.4166 - val_accuracy: 0.8253\n",
      "Epoch 10/20\n",
      "48/48 [==============================] - 5s 111ms/step - loss: 0.3939 - accuracy: 0.8273 - val_loss: 0.4134 - val_accuracy: 0.8267\n",
      "Epoch 11/20\n",
      "48/48 [==============================] - 5s 110ms/step - loss: 0.3887 - accuracy: 0.8333 - val_loss: 0.4149 - val_accuracy: 0.8234\n",
      "Epoch 12/20\n",
      "48/48 [==============================] - 5s 111ms/step - loss: 0.3870 - accuracy: 0.8386 - val_loss: 0.4190 - val_accuracy: 0.8234\n",
      "Epoch 13/20\n",
      "48/48 [==============================] - 5s 112ms/step - loss: 0.3899 - accuracy: 0.8305 - val_loss: 0.4213 - val_accuracy: 0.8214\n",
      "Epoch 14/20\n",
      "48/48 [==============================] - 5s 111ms/step - loss: 0.3663 - accuracy: 0.8498 - val_loss: 0.4181 - val_accuracy: 0.8227\n",
      "Epoch 15/20\n",
      "48/48 [==============================] - 5s 110ms/step - loss: 0.3556 - accuracy: 0.8501 - val_loss: 0.4294 - val_accuracy: 0.8181\n",
      "Epoch 16/20\n",
      "48/48 [==============================] - 5s 110ms/step - loss: 0.3780 - accuracy: 0.8325 - val_loss: 0.4265 - val_accuracy: 0.8227\n",
      "Epoch 17/20\n",
      "48/48 [==============================] - 5s 110ms/step - loss: 0.3505 - accuracy: 0.8564 - val_loss: 0.4414 - val_accuracy: 0.8142\n",
      "Epoch 18/20\n",
      "48/48 [==============================] - 5s 110ms/step - loss: 0.3466 - accuracy: 0.8521 - val_loss: 0.4235 - val_accuracy: 0.8247\n",
      "Epoch 19/20\n",
      "48/48 [==============================] - 5s 110ms/step - loss: 0.3385 - accuracy: 0.8545 - val_loss: 0.4378 - val_accuracy: 0.8142\n",
      "Epoch 20/20\n",
      "48/48 [==============================] - 5s 111ms/step - loss: 0.3328 - accuracy: 0.8620 - val_loss: 0.4355 - val_accuracy: 0.8188\n"
     ]
    }
   ],
   "source": [
    "history = model.fit(x_train_input, y_train, epochs = 20, batch_size=128, \n",
    "                    validation_split = 0.2) #,callbacks=[hist]) verbose = 1,    "
   ]
  },
  {
   "cell_type": "code",
   "execution_count": 15,
   "id": "b00a7035",
   "metadata": {
    "execution": {
     "iopub.execute_input": "2021-12-29T19:34:15.431140Z",
     "iopub.status.busy": "2021-12-29T19:34:15.430087Z",
     "iopub.status.idle": "2021-12-29T19:34:15.703604Z",
     "shell.execute_reply": "2021-12-29T19:34:15.703098Z",
     "shell.execute_reply.started": "2021-12-29T19:27:37.314001Z"
    },
    "papermill": {
     "duration": 0.606949,
     "end_time": "2021-12-29T19:34:15.703790",
     "exception": false,
     "start_time": "2021-12-29T19:34:15.096841",
     "status": "completed"
    },
    "tags": []
   },
   "outputs": [
    {
     "data": {
      "image/png": "[encoded data removed]",
      "text/plain": [
       "<Figure size 432x288 with 1 Axes>"
      ]
     },
     "metadata": {
      "needs_background": "light"
     },
     "output_type": "display_data"
    }
   ],
   "source": [
    "import matplotlib.pyplot as plt\n",
    "loss = history.history['loss']\n",
    "val_loss = history.history['val_loss']\n",
    "epochs = range(1, len(loss) + 1)\n",
    "plt.plot(epochs, loss, 'bo', label='Training loss')\n",
    "plt.plot(epochs, val_loss, 'b', label='Validation loss')\n",
    "plt.title('Training and validation loss')\n",
    "plt.xlabel('Epochs')\n",
    "plt.ylabel('Loss')\n",
    "plt.legend()\n",
    "plt.show()"
   ]
  },
  {
   "cell_type": "code",
   "execution_count": 16,
   "id": "19291cfb",
   "metadata": {
    "execution": {
     "iopub.execute_input": "2021-12-29T19:34:16.360069Z",
     "iopub.status.busy": "2021-12-29T19:34:16.359302Z",
     "iopub.status.idle": "2021-12-29T19:34:16.593376Z",
     "shell.execute_reply": "2021-12-29T19:34:16.593900Z",
     "shell.execute_reply.started": "2021-12-29T19:27:37.597880Z"
    },
    "papermill": {
     "duration": 0.560988,
     "end_time": "2021-12-29T19:34:16.594080",
     "exception": false,
     "start_time": "2021-12-29T19:34:16.033092",
     "status": "completed"
    },
    "tags": []
   },
   "outputs": [
    {
     "data": {
      "image/png": "[encoded data removed]",
      "text/plain": [
       "<Figure size 432x288 with 1 Axes>"
      ]
     },
     "metadata": {
      "needs_background": "light"
     },
     "output_type": "display_data"
    }
   ],
   "source": [
    "plt.clf() #Очистить рисунок\n",
    "acc = history.history['accuracy']\n",
    "val_acc = history.history['val_accuracy']\n",
    "plt.plot(epochs, acc, 'bo', label='Training acc')\n",
    "plt.plot(epochs, val_acc, 'b', label='Validation acc')\n",
    "plt.title('Training and validation accuracy')\n",
    "plt.xlabel('Epochs')\n",
    "plt.ylabel('Accuracy')\n",
    "plt.legend()\n",
    "plt.show()"
   ]
  },
  {
   "cell_type": "code",
   "execution_count": 17,
   "id": "6e5f6a53",
   "metadata": {
    "execution": {
     "iopub.execute_input": "2021-12-29T19:34:17.254119Z",
     "iopub.status.busy": "2021-12-29T19:34:17.253415Z",
     "iopub.status.idle": "2021-12-29T19:34:19.085146Z",
     "shell.execute_reply": "2021-12-29T19:34:19.084550Z",
     "shell.execute_reply.started": "2021-12-29T19:27:37.837064Z"
    },
    "papermill": {
     "duration": 2.1619,
     "end_time": "2021-12-29T19:34:19.085303",
     "exception": false,
     "start_time": "2021-12-29T19:34:16.923403",
     "status": "completed"
    },
    "tags": []
   },
   "outputs": [
    {
     "data": {
      "text/plain": [
       "{'input_ids': <tf.Tensor: shape=(3263, 100), dtype=int32, numpy=\n",
       " array([[   101,  17116,  44936, ...,      0,      0,      0],\n",
       "        [   101, 107339,  10978, ...,      0,      0,      0],\n",
       "        [   101,  11155,  10124, ...,      0,      0,      0],\n",
       "        ...,\n",
       "        [   101,  13068,  14357, ...,      0,      0,      0],\n",
       "        [   101,  47430,  11447, ...,      0,      0,      0],\n",
       "        [   101,  10773,  20324, ...,      0,      0,      0]], dtype=int32)>,\n",
       " 'attention_mask': <tf.Tensor: shape=(3263, 100), dtype=int32, numpy=\n",
       " array([[1, 1, 1, ..., 0, 0, 0],\n",
       "        [1, 1, 1, ..., 0, 0, 0],\n",
       "        [1, 1, 1, ..., 0, 0, 0],\n",
       "        ...,\n",
       "        [1, 1, 1, ..., 0, 0, 0],\n",
       "        [1, 1, 1, ..., 0, 0, 0],\n",
       "        [1, 1, 1, ..., 0, 0, 0]], dtype=int32)>,\n",
       " 'token_type_ids': <tf.Tensor: shape=(3263, 100), dtype=int32, numpy=\n",
       " array([[0, 0, 0, ..., 0, 0, 0],\n",
       "        [0, 0, 0, ..., 0, 0, 0],\n",
       "        [0, 0, 0, ..., 0, 0, 0],\n",
       "        ...,\n",
       "        [0, 0, 0, ..., 0, 0, 0],\n",
       "        [0, 0, 0, ..., 0, 0, 0],\n",
       "        [0, 0, 0, ..., 0, 0, 0]], dtype=int32)>}"
      ]
     },
     "execution_count": 17,
     "metadata": {},
     "output_type": "execute_result"
    }
   ],
   "source": [
    "test = pd.read_csv('../input/nlp-getting-started/test.csv')\n",
    "x_test = pd.DataFrame(test, columns = {'id','text'})\n",
    "x_test.text = x_test.text.apply(lambda x: remove_noise(x))\n",
    "x_test.head()\n",
    "x_test_input = bert_encode(x_test, tokenizer)\n",
    "x_test_input"
   ]
  },
  {
   "cell_type": "code",
   "execution_count": 18,
   "id": "880091c8",
   "metadata": {
    "execution": {
     "iopub.execute_input": "2021-12-29T19:34:19.741976Z",
     "iopub.status.busy": "2021-12-29T19:34:19.741198Z",
     "iopub.status.idle": "2021-12-29T19:34:19.744297Z",
     "shell.execute_reply": "2021-12-29T19:34:19.744838Z",
     "shell.execute_reply.started": "2021-12-29T19:27:39.670133Z"
    },
    "papermill": {
     "duration": 0.335494,
     "end_time": "2021-12-29T19:34:19.745016",
     "exception": false,
     "start_time": "2021-12-29T19:34:19.409522",
     "status": "completed"
    },
    "tags": []
   },
   "outputs": [],
   "source": [
    "for key in x_test_input.keys():\n",
    "    x_test_input[key] = x_test_input[key][:,:SEQ_LEN]"
   ]
  },
  {
   "cell_type": "code",
   "execution_count": 19,
   "id": "9dd6fbc6",
   "metadata": {
    "execution": {
     "iopub.execute_input": "2021-12-29T19:34:20.404929Z",
     "iopub.status.busy": "2021-12-29T19:34:20.404195Z",
     "iopub.status.idle": "2021-12-29T19:34:29.935498Z",
     "shell.execute_reply": "2021-12-29T19:34:29.936058Z",
     "shell.execute_reply.started": "2021-12-29T19:27:39.680456Z"
    },
    "papermill": {
     "duration": 9.865193,
     "end_time": "2021-12-29T19:34:29.936246",
     "exception": false,
     "start_time": "2021-12-29T19:34:20.071053",
     "status": "completed"
    },
    "tags": []
   },
   "outputs": [],
   "source": [
    "predictions = [np.argmax(i) for i in model.predict(x_test_input)]"
   ]
  },
  {
   "cell_type": "code",
   "execution_count": 20,
   "id": "9ccecae0",
   "metadata": {
    "execution": {
     "iopub.execute_input": "2021-12-29T19:34:30.586558Z",
     "iopub.status.busy": "2021-12-29T19:34:30.585970Z",
     "iopub.status.idle": "2021-12-29T19:34:30.596290Z",
     "shell.execute_reply": "2021-12-29T19:34:30.595589Z",
     "shell.execute_reply.started": "2021-12-29T19:27:50.532612Z"
    },
    "papermill": {
     "duration": 0.336514,
     "end_time": "2021-12-29T19:34:30.596428",
     "exception": false,
     "start_time": "2021-12-29T19:34:30.259914",
     "status": "completed"
    },
    "tags": []
   },
   "outputs": [],
   "source": [
    "submission = test.id.copy().to_frame()\n",
    "submission['target'] = predictions"
   ]
  },
  {
   "cell_type": "code",
   "execution_count": 21,
   "id": "967d6498",
   "metadata": {
    "execution": {
     "iopub.execute_input": "2021-12-29T19:34:31.303669Z",
     "iopub.status.busy": "2021-12-29T19:34:31.303065Z",
     "iopub.status.idle": "2021-12-29T19:34:31.314625Z",
     "shell.execute_reply": "2021-12-29T19:34:31.315218Z",
     "shell.execute_reply.started": "2021-12-29T19:27:50.548427Z"
    },
    "papermill": {
     "duration": 0.397432,
     "end_time": "2021-12-29T19:34:31.315398",
     "exception": false,
     "start_time": "2021-12-29T19:34:30.917966",
     "status": "completed"
    },
    "tags": []
   },
   "outputs": [],
   "source": [
    "submission.to_csv(\"./submission.csv\", index = False)"
   ]
  },
  {
   "cell_type": "code",
   "execution_count": 22,
   "id": "256c8a51",
   "metadata": {
    "execution": {
     "iopub.execute_input": "2021-12-29T19:34:31.975974Z",
     "iopub.status.busy": "2021-12-29T19:34:31.975185Z",
     "iopub.status.idle": "2021-12-29T19:34:31.977862Z",
     "shell.execute_reply": "2021-12-29T19:34:31.978327Z",
     "shell.execute_reply.started": "2021-12-29T19:27:50.570991Z"
    },
    "papermill": {
     "duration": 0.337691,
     "end_time": "2021-12-29T19:34:31.978493",
     "exception": false,
     "start_time": "2021-12-29T19:34:31.640802",
     "status": "completed"
    },
    "tags": []
   },
   "outputs": [
    {
     "data": {
      "text/html": [
       "<div>\n",
       "<style scoped>\n",
       "    .dataframe tbody tr th:only-of-type {\n",
       "        vertical-align: middle;\n",
       "    }\n",
       "\n",
       "    .dataframe tbody tr th {\n",
       "        vertical-align: top;\n",
       "    }\n",
       "\n",
       "    .dataframe thead th {\n",
       "        text-align: right;\n",
       "    }\n",
       "</style>\n",
       "<table border=\"1\" class=\"dataframe\">\n",
       "  <thead>\n",
       "    <tr style=\"text-align: right;\">\n",
       "      <th></th>\n",
       "      <th>id</th>\n",
       "      <th>target</th>\n",
       "    </tr>\n",
       "  </thead>\n",
       "  <tbody>\n",
       "    <tr>\n",
       "      <th>0</th>\n",
       "      <td>0</td>\n",
       "      <td>1</td>\n",
       "    </tr>\n",
       "    <tr>\n",
       "      <th>1</th>\n",
       "      <td>2</td>\n",
       "      <td>1</td>\n",
       "    </tr>\n",
       "    <tr>\n",
       "      <th>2</th>\n",
       "      <td>3</td>\n",
       "      <td>1</td>\n",
       "    </tr>\n",
       "    <tr>\n",
       "      <th>3</th>\n",
       "      <td>9</td>\n",
       "      <td>1</td>\n",
       "    </tr>\n",
       "    <tr>\n",
       "      <th>4</th>\n",
       "      <td>11</td>\n",
       "      <td>1</td>\n",
       "    </tr>\n",
       "  </tbody>\n",
       "</table>\n",
       "</div>"
      ],
      "text/plain": [
       "   id  target\n",
       "0   0       1\n",
       "1   2       1\n",
       "2   3       1\n",
       "3   9       1\n",
       "4  11       1"
      ]
     },
     "execution_count": 22,
     "metadata": {},
     "output_type": "execute_result"
    }
   ],
   "source": [
    "submission.head()"
   ]
  }
 ],
 "metadata": {
  "kernelspec": {
   "display_name": "Python 3",
   "language": "python",
   "name": "python3"
  },
  "language_info": {
   "codemirror_mode": {
    "name": "ipython",
    "version": 3
   },
   "file_extension": ".py",
   "mimetype": "text/x-python",
   "name": "python",
   "nbconvert_exporter": "python",
   "pygments_lexer": "ipython3",
   "version": "3.7.10"
  },
  "papermill": {
   "default_parameters": {},
   "duration": 351.98299,
   "end_time": "2021-12-29T19:34:35.841988",
   "environment_variables": {},
   "exception": null,
   "input_path": "__notebook__.ipynb",
   "output_path": "__notebook__.ipynb",
   "parameters": {},
   "start_time": "2021-12-29T19:28:43.858998",
   "version": "2.3.3"
  },
  "widgets": {
   "application/vnd.jupyter.widget-state+json": {
    "state": {
     "003d5f4f961e4924b8a4e95b2ac906da": {
      "model_module": "@jupyter-widgets/controls",
      "model_module_version": "1.5.0",
      "model_name": "HBoxModel",
      "state": {
       "_dom_classes": [],
       "_model_module": "@jupyter-widgets/controls",
       "_model_module_version": "1.5.0",
       "_model_name": "HBoxModel",
       "_view_count": null,
       "_view_module": "@jupyter-widgets/controls",
       "_view_module_version": "1.5.0",
       "_view_name": "HBoxView",
       "box_style": "",
       "children": [
        "IPY_MODEL_d9d650a316f245baa9a70a4746dd55f5",
        "IPY_MODEL_620b17ceecde4147a05c59c4fae12fb3",
        "IPY_MODEL_8f6ba0ec8c5d46abb7e7de700814f609"
       ],
       "layout": "IPY_MODEL_3781189034e6451396a8a08937eff27d"
      }
     },
     "00b8ec2716a14e3fa303392d1c13f244": {
      "model_module": "@jupyter-widgets/base",
      "model_module_version": "1.2.0",
      "model_name": "LayoutModel",
      "state": {
       "_model_module": "@jupyter-widgets/base",
       "_model_module_version": "1.2.0",
       "_model_name": "LayoutModel",
       "_view_count": null,
       "_view_module": "@jupyter-widgets/base",
       "_view_module_version": "1.2.0",
       "_view_name": "LayoutView",
       "align_content": null,
       "align_items": null,
       "align_self": null,
       "border": null,
       "bottom": null,
       "display": null,
       "flex": null,
       "flex_flow": null,
       "grid_area": null,
       "grid_auto_columns": null,
       "grid_auto_flow": null,
       "grid_auto_rows": null,
       "grid_column": null,
       "grid_gap": null,
       "grid_row": null,
       "grid_template_areas": null,
       "grid_template_columns": null,
       "grid_template_rows": null,
       "height": null,
       "justify_content": null,
       "justify_items": null,
       "left": null,
       "margin": null,
       "max_height": null,
       "max_width": null,
       "min_height": null,
       "min_width": null,
       "object_fit": null,
       "object_position": null,
       "order": null,
       "overflow": null,
       "overflow_x": null,
       "overflow_y": null,
       "padding": null,
       "right": null,
       "top": null,
       "visibility": null,
       "width": null
      }
     },
     "016fb7e999ba4c98af714763a68ea4f7": {
      "model_module": "@jupyter-widgets/controls",
      "model_module_version": "1.5.0",
      "model_name": "ProgressStyleModel",
      "state": {
       "_model_module": "@jupyter-widgets/controls",
       "_model_module_version": "1.5.0",
       "_model_name": "ProgressStyleModel",
       "_view_count": null,
       "_view_module": "@jupyter-widgets/base",
       "_view_module_version": "1.2.0",
       "_view_name": "StyleView",
       "bar_color": null,
       "description_width": ""
      }
     },
     "01f76d96b19443fcb9ba4ddd764b0f81": {
      "model_module": "@jupyter-widgets/base",
      "model_module_version": "1.2.0",
      "model_name": "LayoutModel",
      "state": {
       "_model_module": "@jupyter-widgets/base",
       "_model_module_version": "1.2.0",
       "_model_name": "LayoutModel",
       "_view_count": null,
       "_view_module": "@jupyter-widgets/base",
       "_view_module_version": "1.2.0",
       "_view_name": "LayoutView",
       "align_content": null,
       "align_items": null,
       "align_self": null,
       "border": null,
       "bottom": null,
       "display": null,
       "flex": null,
       "flex_flow": null,
       "grid_area": null,
       "grid_auto_columns": null,
       "grid_auto_flow": null,
       "grid_auto_rows": null,
       "grid_column": null,
       "grid_gap": null,
       "grid_row": null,
       "grid_template_areas": null,
       "grid_template_columns": null,
       "grid_template_rows": null,
       "height": null,
       "justify_content": null,
       "justify_items": null,
       "left": null,
       "margin": null,
       "max_height": null,
       "max_width": null,
       "min_height": null,
       "min_width": null,
       "object_fit": null,
       "object_position": null,
       "order": null,
       "overflow": null,
       "overflow_x": null,
       "overflow_y": null,
       "padding": null,
       "right": null,
       "top": null,
       "visibility": null,
       "width": null
      }
     },
     "04cf1853f0fa4ee9a0d7c91a53cadce8": {
      "model_module": "@jupyter-widgets/controls",
      "model_module_version": "1.5.0",
      "model_name": "FloatProgressModel",
      "state": {
       "_dom_classes": [],
       "_model_module": "@jupyter-widgets/controls",
       "_model_module_version": "1.5.0",
       "_model_name": "FloatProgressModel",
       "_view_count": null,
       "_view_module": "@jupyter-widgets/controls",
       "_view_module_version": "1.5.0",
       "_view_name": "ProgressView",
       "bar_style": "success",
       "description": "",
       "description_tooltip": null,
       "layout": "IPY_MODEL_a31ec4f074914f5b82936e80f66bdc2c",
       "max": 625.0,
       "min": 0.0,
       "orientation": "horizontal",
       "style": "IPY_MODEL_8697c035559446e994cabd447027d010",
       "value": 625.0
      }
     },
     "0c1a00bc2c5c4db4a5dbbabd535a4c86": {
      "model_module": "@jupyter-widgets/controls",
      "model_module_version": "1.5.0",
      "model_name": "HTMLModel",
      "state": {
       "_dom_classes": [],
       "_model_module": "@jupyter-widgets/controls",
       "_model_module_version": "1.5.0",
       "_model_name": "HTMLModel",
       "_view_count": null,
       "_view_module": "@jupyter-widgets/controls",
       "_view_module_version": "1.5.0",
       "_view_name": "HTMLView",
       "description": "",
       "description_tooltip": null,
       "layout": "IPY_MODEL_1881cd808cc84fc88a2ac22a8c14c462",
       "placeholder": "​",
       "style": "IPY_MODEL_4ad315b2bb44437586f1d3c0b96e1bb1",
       "value": " 1.96M/1.96M [00:00&lt;00:00, 9.32MB/s]"
      }
     },
     "124a64c152a24a26b15b373d7452295e": {
      "model_module": "@jupyter-widgets/base",
      "model_module_version": "1.2.0",
      "model_name": "LayoutModel",
      "state": {
       "_model_module": "@jupyter-widgets/base",
       "_model_module_version": "1.2.0",
       "_model_name": "LayoutModel",
       "_view_count": null,
       "_view_module": "@jupyter-widgets/base",
       "_view_module_version": "1.2.0",
       "_view_name": "LayoutView",
       "align_content": null,
       "align_items": null,
       "align_self": null,
       "border": null,
       "bottom": null,
       "display": null,
       "flex": null,
       "flex_flow": null,
       "grid_area": null,
       "grid_auto_columns": null,
       "grid_auto_flow": null,
       "grid_auto_rows": null,
       "grid_column": null,
       "grid_gap": null,
       "grid_row": null,
       "grid_template_areas": null,
       "grid_template_columns": null,
       "grid_template_rows": null,
       "height": null,
       "justify_content": null,
       "justify_items": null,
       "left": null,
       "margin": null,
       "max_height": null,
       "max_width": null,
       "min_height": null,
       "min_width": null,
       "object_fit": null,
       "object_position": null,
       "order": null,
       "overflow": null,
       "overflow_x": null,
       "overflow_y": null,
       "padding": null,
       "right": null,
       "top": null,
       "visibility": null,
       "width": null
      }
     },
     "1392e352fa164e5fab6717ea9fd28a35": {
      "model_module": "@jupyter-widgets/base",
      "model_module_version": "1.2.0",
      "model_name": "LayoutModel",
      "state": {
       "_model_module": "@jupyter-widgets/base",
       "_model_module_version": "1.2.0",
       "_model_name": "LayoutModel",
       "_view_count": null,
       "_view_module": "@jupyter-widgets/base",
       "_view_module_version": "1.2.0",
       "_view_name": "LayoutView",
       "align_content": null,
       "align_items": null,
       "align_self": null,
       "border": null,
       "bottom": null,
       "display": null,
       "flex": null,
       "flex_flow": null,
       "grid_area": null,
       "grid_auto_columns": null,
       "grid_auto_flow": null,
       "grid_auto_rows": null,
       "grid_column": null,
       "grid_gap": null,
       "grid_row": null,
       "grid_template_areas": null,
       "grid_template_columns": null,
       "grid_template_rows": null,
       "height": null,
       "justify_content": null,
       "justify_items": null,
       "left": null,
       "margin": null,
       "max_height": null,
       "max_width": null,
       "min_height": null,
       "min_width": null,
       "object_fit": null,
       "object_position": null,
       "order": null,
       "overflow": null,
       "overflow_x": null,
       "overflow_y": null,
       "padding": null,
       "right": null,
       "top": null,
       "visibility": null,
       "width": null
      }
     },
     "1881cd808cc84fc88a2ac22a8c14c462": {
      "model_module": "@jupyter-widgets/base",
      "model_module_version": "1.2.0",
      "model_name": "LayoutModel",
      "state": {
       "_model_module": "@jupyter-widgets/base",
       "_model_module_version": "1.2.0",
       "_model_name": "LayoutModel",
       "_view_count": null,
       "_view_module": "@jupyter-widgets/base",
       "_view_module_version": "1.2.0",
       "_view_name": "LayoutView",
       "align_content": null,
       "align_items": null,
       "align_self": null,
       "border": null,
       "bottom": null,
       "display": null,
       "flex": null,
       "flex_flow": null,
       "grid_area": null,
       "grid_auto_columns": null,
       "grid_auto_flow": null,
       "grid_auto_rows": null,
       "grid_column": null,
       "grid_gap": null,
       "grid_row": null,
       "grid_template_areas": null,
       "grid_template_columns": null,
       "grid_template_rows": null,
       "height": null,
       "justify_content": null,
       "justify_items": null,
       "left": null,
       "margin": null,
       "max_height": null,
       "max_width": null,
       "min_height": null,
       "min_width": null,
       "object_fit": null,
       "object_position": null,
       "order": null,
       "overflow": null,
       "overflow_x": null,
       "overflow_y": null,
       "padding": null,
       "right": null,
       "top": null,
       "visibility": null,
       "width": null
      }
     },
     "1d4ac47ecb714fd9afad10a0936180b8": {
      "model_module": "@jupyter-widgets/base",
      "model_module_version": "1.2.0",
      "model_name": "LayoutModel",
      "state": {
       "_model_module": "@jupyter-widgets/base",
       "_model_module_version": "1.2.0",
       "_model_name": "LayoutModel",
       "_view_count": null,
       "_view_module": "@jupyter-widgets/base",
       "_view_module_version": "1.2.0",
       "_view_name": "LayoutView",
       "align_content": null,
       "align_items": null,
       "align_self": null,
       "border": null,
       "bottom": null,
       "display": null,
       "flex": null,
       "flex_flow": null,
       "grid_area": null,
       "grid_auto_columns": null,
       "grid_auto_flow": null,
       "grid_auto_rows": null,
       "grid_column": null,
       "grid_gap": null,
       "grid_row": null,
       "grid_template_areas": null,
       "grid_template_columns": null,
       "grid_template_rows": null,
       "height": null,
       "justify_content": null,
       "justify_items": null,
       "left": null,
       "margin": null,
       "max_height": null,
       "max_width": null,
       "min_height": null,
       "min_width": null,
       "object_fit": null,
       "object_position": null,
       "order": null,
       "overflow": null,
       "overflow_x": null,
       "overflow_y": null,
       "padding": null,
       "right": null,
       "top": null,
       "visibility": null,
       "width": null
      }
     },
     "1e277a40191242cfbb1f872316c0a0e4": {
      "model_module": "@jupyter-widgets/controls",
      "model_module_version": "1.5.0",
      "model_name": "DescriptionStyleModel",
      "state": {
       "_model_module": "@jupyter-widgets/controls",
       "_model_module_version": "1.5.0",
       "_model_name": "DescriptionStyleModel",
       "_view_count": null,
       "_view_module": "@jupyter-widgets/base",
       "_view_module_version": "1.2.0",
       "_view_name": "StyleView",
       "description_width": ""
      }
     },
     "1e6231db826947ea860b59cd4c90d311": {
      "model_module": "@jupyter-widgets/controls",
      "model_module_version": "1.5.0",
      "model_name": "HBoxModel",
      "state": {
       "_dom_classes": [],
       "_model_module": "@jupyter-widgets/controls",
       "_model_module_version": "1.5.0",
       "_model_name": "HBoxModel",
       "_view_count": null,
       "_view_module": "@jupyter-widgets/controls",
       "_view_module_version": "1.5.0",
       "_view_name": "HBoxView",
       "box_style": "",
       "children": [
        "IPY_MODEL_e870c9b14c4b4b71bf445fb14202b6b8",
        "IPY_MODEL_b28261e9bfdb4f94a7a3c214659e9781",
        "IPY_MODEL_7c15e12ec5984f60a629b728d7365158"
       ],
       "layout": "IPY_MODEL_fd339986f57b4f3199f1cd661f7d9136"
      }
     },
     "1edfaefb30174475a5a3cbfa9c9c80a1": {
      "model_module": "@jupyter-widgets/controls",
      "model_module_version": "1.5.0",
      "model_name": "HTMLModel",
      "state": {
       "_dom_classes": [],
       "_model_module": "@jupyter-widgets/controls",
       "_model_module_version": "1.5.0",
       "_model_name": "HTMLModel",
       "_view_count": null,
       "_view_module": "@jupyter-widgets/controls",
       "_view_module_version": "1.5.0",
       "_view_name": "HTMLView",
       "description": "",
       "description_tooltip": null,
       "layout": "IPY_MODEL_9f2919e16e634bd19337e457d8d7807f",
       "placeholder": "​",
       "style": "IPY_MODEL_79a9f8daa8a2441583f0802bfadaa83e",
       "value": "Downloading: 100%"
      }
     },
     "3383073420904500bcf10b187738f0de": {
      "model_module": "@jupyter-widgets/controls",
      "model_module_version": "1.5.0",
      "model_name": "HBoxModel",
      "state": {
       "_dom_classes": [],
       "_model_module": "@jupyter-widgets/controls",
       "_model_module_version": "1.5.0",
       "_model_name": "HBoxModel",
       "_view_count": null,
       "_view_module": "@jupyter-widgets/controls",
       "_view_module_version": "1.5.0",
       "_view_name": "HBoxView",
       "box_style": "",
       "children": [
        "IPY_MODEL_ed0d9d342ad143dbac0c499ad69c2727",
        "IPY_MODEL_3954417917a84b4c95053baafc5fadc1",
        "IPY_MODEL_0c1a00bc2c5c4db4a5dbbabd535a4c86"
       ],
       "layout": "IPY_MODEL_b37cac7de90543f7bb5e6ece9c17f8c4"
      }
     },
     "362695c4544d4e9f9fe9c318a4570cfe": {
      "model_module": "@jupyter-widgets/controls",
      "model_module_version": "1.5.0",
      "model_name": "HBoxModel",
      "state": {
       "_dom_classes": [],
       "_model_module": "@jupyter-widgets/controls",
       "_model_module_version": "1.5.0",
       "_model_name": "HBoxModel",
       "_view_count": null,
       "_view_module": "@jupyter-widgets/controls",
       "_view_module_version": "1.5.0",
       "_view_name": "HBoxView",
       "box_style": "",
       "children": [
        "IPY_MODEL_ac024c864b63492e9a3bdd82832ba596",
        "IPY_MODEL_b4da9f01d58b47bf94a9231524a4e303",
        "IPY_MODEL_79f3ed72d44245aa9ec4d668d7105f69"
       ],
       "layout": "IPY_MODEL_cff56a92efa84ea29e8002e50d582756"
      }
     },
     "3781189034e6451396a8a08937eff27d": {
      "model_module": "@jupyter-widgets/base",
      "model_module_version": "1.2.0",
      "model_name": "LayoutModel",
      "state": {
       "_model_module": "@jupyter-widgets/base",
       "_model_module_version": "1.2.0",
       "_model_name": "LayoutModel",
       "_view_count": null,
       "_view_module": "@jupyter-widgets/base",
       "_view_module_version": "1.2.0",
       "_view_name": "LayoutView",
       "align_content": null,
       "align_items": null,
       "align_self": null,
       "border": null,
       "bottom": null,
       "display": null,
       "flex": null,
       "flex_flow": null,
       "grid_area": null,
       "grid_auto_columns": null,
       "grid_auto_flow": null,
       "grid_auto_rows": null,
       "grid_column": null,
       "grid_gap": null,
       "grid_row": null,
       "grid_template_areas": null,
       "grid_template_columns": null,
       "grid_template_rows": null,
       "height": null,
       "justify_content": null,
       "justify_items": null,
       "left": null,
       "margin": null,
       "max_height": null,
       "max_width": null,
       "min_height": null,
       "min_width": null,
       "object_fit": null,
       "object_position": null,
       "order": null,
       "overflow": null,
       "overflow_x": null,
       "overflow_y": null,
       "padding": null,
       "right": null,
       "top": null,
       "visibility": null,
       "width": null
      }
     },
     "3954417917a84b4c95053baafc5fadc1": {
      "model_module": "@jupyter-widgets/controls",
      "model_module_version": "1.5.0",
      "model_name": "FloatProgressModel",
      "state": {
       "_dom_classes": [],
       "_model_module": "@jupyter-widgets/controls",
       "_model_module_version": "1.5.0",
       "_model_name": "FloatProgressModel",
       "_view_count": null,
       "_view_module": "@jupyter-widgets/controls",
       "_view_module_version": "1.5.0",
       "_view_name": "ProgressView",
       "bar_style": "success",
       "description": "",
       "description_tooltip": null,
       "layout": "IPY_MODEL_df58860af60444b3ac2cd744c06b05c6",
       "max": 1961828.0,
       "min": 0.0,
       "orientation": "horizontal",
       "style": "IPY_MODEL_6343745a38524dccae27bc5aa1ffe32f",
       "value": 1961828.0
      }
     },
     "400c5be3af284ea691f4f60aad4ab7e9": {
      "model_module": "@jupyter-widgets/controls",
      "model_module_version": "1.5.0",
      "model_name": "HBoxModel",
      "state": {
       "_dom_classes": [],
       "_model_module": "@jupyter-widgets/controls",
       "_model_module_version": "1.5.0",
       "_model_name": "HBoxModel",
       "_view_count": null,
       "_view_module": "@jupyter-widgets/controls",
       "_view_module_version": "1.5.0",
       "_view_name": "HBoxView",
       "box_style": "",
       "children": [
        "IPY_MODEL_1edfaefb30174475a5a3cbfa9c9c80a1",
        "IPY_MODEL_04cf1853f0fa4ee9a0d7c91a53cadce8",
        "IPY_MODEL_5322a8950c3a458088022653aa61ba18"
       ],
       "layout": "IPY_MODEL_00b8ec2716a14e3fa303392d1c13f244"
      }
     },
     "455d39c854d54844abd17d4bd245b9dc": {
      "model_module": "@jupyter-widgets/controls",
      "model_module_version": "1.5.0",
      "model_name": "DescriptionStyleModel",
      "state": {
       "_model_module": "@jupyter-widgets/controls",
       "_model_module_version": "1.5.0",
       "_model_name": "DescriptionStyleModel",
       "_view_count": null,
       "_view_module": "@jupyter-widgets/base",
       "_view_module_version": "1.2.0",
       "_view_name": "StyleView",
       "description_width": ""
      }
     },
     "4ad315b2bb44437586f1d3c0b96e1bb1": {
      "model_module": "@jupyter-widgets/controls",
      "model_module_version": "1.5.0",
      "model_name": "DescriptionStyleModel",
      "state": {
       "_model_module": "@jupyter-widgets/controls",
       "_model_module_version": "1.5.0",
       "_model_name": "DescriptionStyleModel",
       "_view_count": null,
       "_view_module": "@jupyter-widgets/base",
       "_view_module_version": "1.2.0",
       "_view_name": "StyleView",
       "description_width": ""
      }
     },
     "5322a8950c3a458088022653aa61ba18": {
      "model_module": "@jupyter-widgets/controls",
      "model_module_version": "1.5.0",
      "model_name": "HTMLModel",
      "state": {
       "_dom_classes": [],
       "_model_module": "@jupyter-widgets/controls",
       "_model_module_version": "1.5.0",
       "_model_name": "HTMLModel",
       "_view_count": null,
       "_view_module": "@jupyter-widgets/controls",
       "_view_module_version": "1.5.0",
       "_view_name": "HTMLView",
       "description": "",
       "description_tooltip": null,
       "layout": "IPY_MODEL_e5ee938bd4c24ef883590d96c48c5818",
       "placeholder": "​",
       "style": "IPY_MODEL_c6e11d9cd31f4591b4e6984ab5c59ef9",
       "value": " 625/625 [00:00&lt;00:00, 21.0kB/s]"
      }
     },
     "5f83da17a3cd4718a6a94e15bc285ccc": {
      "model_module": "@jupyter-widgets/base",
      "model_module_version": "1.2.0",
      "model_name": "LayoutModel",
      "state": {
       "_model_module": "@jupyter-widgets/base",
       "_model_module_version": "1.2.0",
       "_model_name": "LayoutModel",
       "_view_count": null,
       "_view_module": "@jupyter-widgets/base",
       "_view_module_version": "1.2.0",
       "_view_name": "LayoutView",
       "align_content": null,
       "align_items": null,
       "align_self": null,
       "border": null,
       "bottom": null,
       "display": null,
       "flex": null,
       "flex_flow": null,
       "grid_area": null,
       "grid_auto_columns": null,
       "grid_auto_flow": null,
       "grid_auto_rows": null,
       "grid_column": null,
       "grid_gap": null,
       "grid_row": null,
       "grid_template_areas": null,
       "grid_template_columns": null,
       "grid_template_rows": null,
       "height": null,
       "justify_content": null,
       "justify_items": null,
       "left": null,
       "margin": null,
       "max_height": null,
       "max_width": null,
       "min_height": null,
       "min_width": null,
       "object_fit": null,
       "object_position": null,
       "order": null,
       "overflow": null,
       "overflow_x": null,
       "overflow_y": null,
       "padding": null,
       "right": null,
       "top": null,
       "visibility": null,
       "width": null
      }
     },
     "620b17ceecde4147a05c59c4fae12fb3": {
      "model_module": "@jupyter-widgets/controls",
      "model_module_version": "1.5.0",
      "model_name": "FloatProgressModel",
      "state": {
       "_dom_classes": [],
       "_model_module": "@jupyter-widgets/controls",
       "_model_module_version": "1.5.0",
       "_model_name": "FloatProgressModel",
       "_view_count": null,
       "_view_module": "@jupyter-widgets/controls",
       "_view_module_version": "1.5.0",
       "_view_name": "ProgressView",
       "bar_style": "success",
       "description": "",
       "description_tooltip": null,
       "layout": "IPY_MODEL_5f83da17a3cd4718a6a94e15bc285ccc",
       "max": 995526.0,
       "min": 0.0,
       "orientation": "horizontal",
       "style": "IPY_MODEL_b4aa9610fa5b4a71af28f8065c007305",
       "value": 995526.0
      }
     },
     "6343745a38524dccae27bc5aa1ffe32f": {
      "model_module": "@jupyter-widgets/controls",
      "model_module_version": "1.5.0",
      "model_name": "ProgressStyleModel",
      "state": {
       "_model_module": "@jupyter-widgets/controls",
       "_model_module_version": "1.5.0",
       "_model_name": "ProgressStyleModel",
       "_view_count": null,
       "_view_module": "@jupyter-widgets/base",
       "_view_module_version": "1.2.0",
       "_view_name": "StyleView",
       "bar_color": null,
       "description_width": ""
      }
     },
     "66d2d868e369444896b201915a0f5b35": {
      "model_module": "@jupyter-widgets/controls",
      "model_module_version": "1.5.0",
      "model_name": "DescriptionStyleModel",
      "state": {
       "_model_module": "@jupyter-widgets/controls",
       "_model_module_version": "1.5.0",
       "_model_name": "DescriptionStyleModel",
       "_view_count": null,
       "_view_module": "@jupyter-widgets/base",
       "_view_module_version": "1.2.0",
       "_view_name": "StyleView",
       "description_width": ""
      }
     },
     "703409418771404496c562a03c876fd1": {
      "model_module": "@jupyter-widgets/controls",
      "model_module_version": "1.5.0",
      "model_name": "DescriptionStyleModel",
      "state": {
       "_model_module": "@jupyter-widgets/controls",
       "_model_module_version": "1.5.0",
       "_model_name": "DescriptionStyleModel",
       "_view_count": null,
       "_view_module": "@jupyter-widgets/base",
       "_view_module_version": "1.2.0",
       "_view_name": "StyleView",
       "description_width": ""
      }
     },
     "732733197eb04a2a9bb6698a8287634d": {
      "model_module": "@jupyter-widgets/base",
      "model_module_version": "1.2.0",
      "model_name": "LayoutModel",
      "state": {
       "_model_module": "@jupyter-widgets/base",
       "_model_module_version": "1.2.0",
       "_model_name": "LayoutModel",
       "_view_count": null,
       "_view_module": "@jupyter-widgets/base",
       "_view_module_version": "1.2.0",
       "_view_name": "LayoutView",
       "align_content": null,
       "align_items": null,
       "align_self": null,
       "border": null,
       "bottom": null,
       "display": null,
       "flex": null,
       "flex_flow": null,
       "grid_area": null,
       "grid_auto_columns": null,
       "grid_auto_flow": null,
       "grid_auto_rows": null,
       "grid_column": null,
       "grid_gap": null,
       "grid_row": null,
       "grid_template_areas": null,
       "grid_template_columns": null,
       "grid_template_rows": null,
       "height": null,
       "justify_content": null,
       "justify_items": null,
       "left": null,
       "margin": null,
       "max_height": null,
       "max_width": null,
       "min_height": null,
       "min_width": null,
       "object_fit": null,
       "object_position": null,
       "order": null,
       "overflow": null,
       "overflow_x": null,
       "overflow_y": null,
       "padding": null,
       "right": null,
       "top": null,
       "visibility": null,
       "width": null
      }
     },
     "79a9f8daa8a2441583f0802bfadaa83e": {
      "model_module": "@jupyter-widgets/controls",
      "model_module_version": "1.5.0",
      "model_name": "DescriptionStyleModel",
      "state": {
       "_model_module": "@jupyter-widgets/controls",
       "_model_module_version": "1.5.0",
       "_model_name": "DescriptionStyleModel",
       "_view_count": null,
       "_view_module": "@jupyter-widgets/base",
       "_view_module_version": "1.2.0",
       "_view_name": "StyleView",
       "description_width": ""
      }
     },
     "79f3ed72d44245aa9ec4d668d7105f69": {
      "model_module": "@jupyter-widgets/controls",
      "model_module_version": "1.5.0",
      "model_name": "HTMLModel",
      "state": {
       "_dom_classes": [],
       "_model_module": "@jupyter-widgets/controls",
       "_model_module_version": "1.5.0",
       "_model_name": "HTMLModel",
       "_view_count": null,
       "_view_module": "@jupyter-widgets/controls",
       "_view_module_version": "1.5.0",
       "_view_name": "HTMLView",
       "description": "",
       "description_tooltip": null,
       "layout": "IPY_MODEL_1392e352fa164e5fab6717ea9fd28a35",
       "placeholder": "​",
       "style": "IPY_MODEL_963ba5e9d1b24e758e59767f06655d54",
       "value": " 29.0/29.0 [00:00&lt;00:00, 923B/s]"
      }
     },
     "7c15e12ec5984f60a629b728d7365158": {
      "model_module": "@jupyter-widgets/controls",
      "model_module_version": "1.5.0",
      "model_name": "HTMLModel",
      "state": {
       "_dom_classes": [],
       "_model_module": "@jupyter-widgets/controls",
       "_model_module_version": "1.5.0",
       "_model_name": "HTMLModel",
       "_view_count": null,
       "_view_module": "@jupyter-widgets/controls",
       "_view_module_version": "1.5.0",
       "_view_name": "HTMLView",
       "description": "",
       "description_tooltip": null,
       "layout": "IPY_MODEL_732733197eb04a2a9bb6698a8287634d",
       "placeholder": "​",
       "style": "IPY_MODEL_e63fdd33d79146b1a4be1df3f14d3289",
       "value": " 1.08G/1.08G [00:36&lt;00:00, 30.8MB/s]"
      }
     },
     "7f424624d91a4225ad4110b4e46a2bce": {
      "model_module": "@jupyter-widgets/base",
      "model_module_version": "1.2.0",
      "model_name": "LayoutModel",
      "state": {
       "_model_module": "@jupyter-widgets/base",
       "_model_module_version": "1.2.0",
       "_model_name": "LayoutModel",
       "_view_count": null,
       "_view_module": "@jupyter-widgets/base",
       "_view_module_version": "1.2.0",
       "_view_name": "LayoutView",
       "align_content": null,
       "align_items": null,
       "align_self": null,
       "border": null,
       "bottom": null,
       "display": null,
       "flex": null,
       "flex_flow": null,
       "grid_area": null,
       "grid_auto_columns": null,
       "grid_auto_flow": null,
       "grid_auto_rows": null,
       "grid_column": null,
       "grid_gap": null,
       "grid_row": null,
       "grid_template_areas": null,
       "grid_template_columns": null,
       "grid_template_rows": null,
       "height": null,
       "justify_content": null,
       "justify_items": null,
       "left": null,
       "margin": null,
       "max_height": null,
       "max_width": null,
       "min_height": null,
       "min_width": null,
       "object_fit": null,
       "object_position": null,
       "order": null,
       "overflow": null,
       "overflow_x": null,
       "overflow_y": null,
       "padding": null,
       "right": null,
       "top": null,
       "visibility": null,
       "width": null
      }
     },
     "8697c035559446e994cabd447027d010": {
      "model_module": "@jupyter-widgets/controls",
      "model_module_version": "1.5.0",
      "model_name": "ProgressStyleModel",
      "state": {
       "_model_module": "@jupyter-widgets/controls",
       "_model_module_version": "1.5.0",
       "_model_name": "ProgressStyleModel",
       "_view_count": null,
       "_view_module": "@jupyter-widgets/base",
       "_view_module_version": "1.2.0",
       "_view_name": "StyleView",
       "bar_color": null,
       "description_width": ""
      }
     },
     "8f6ba0ec8c5d46abb7e7de700814f609": {
      "model_module": "@jupyter-widgets/controls",
      "model_module_version": "1.5.0",
      "model_name": "HTMLModel",
      "state": {
       "_dom_classes": [],
       "_model_module": "@jupyter-widgets/controls",
       "_model_module_version": "1.5.0",
       "_model_name": "HTMLModel",
       "_view_count": null,
       "_view_module": "@jupyter-widgets/controls",
       "_view_module_version": "1.5.0",
       "_view_name": "HTMLView",
       "description": "",
       "description_tooltip": null,
       "layout": "IPY_MODEL_124a64c152a24a26b15b373d7452295e",
       "placeholder": "​",
       "style": "IPY_MODEL_66d2d868e369444896b201915a0f5b35",
       "value": " 996k/996k [00:00&lt;00:00, 1.59MB/s]"
      }
     },
     "963ba5e9d1b24e758e59767f06655d54": {
      "model_module": "@jupyter-widgets/controls",
      "model_module_version": "1.5.0",
      "model_name": "DescriptionStyleModel",
      "state": {
       "_model_module": "@jupyter-widgets/controls",
       "_model_module_version": "1.5.0",
       "_model_name": "DescriptionStyleModel",
       "_view_count": null,
       "_view_module": "@jupyter-widgets/base",
       "_view_module_version": "1.2.0",
       "_view_name": "StyleView",
       "description_width": ""
      }
     },
     "9f2919e16e634bd19337e457d8d7807f": {
      "model_module": "@jupyter-widgets/base",
      "model_module_version": "1.2.0",
      "model_name": "LayoutModel",
      "state": {
       "_model_module": "@jupyter-widgets/base",
       "_model_module_version": "1.2.0",
       "_model_name": "LayoutModel",
       "_view_count": null,
       "_view_module": "@jupyter-widgets/base",
       "_view_module_version": "1.2.0",
       "_view_name": "LayoutView",
       "align_content": null,
       "align_items": null,
       "align_self": null,
       "border": null,
       "bottom": null,
       "display": null,
       "flex": null,
       "flex_flow": null,
       "grid_area": null,
       "grid_auto_columns": null,
       "grid_auto_flow": null,
       "grid_auto_rows": null,
       "grid_column": null,
       "grid_gap": null,
       "grid_row": null,
       "grid_template_areas": null,
       "grid_template_columns": null,
       "grid_template_rows": null,
       "height": null,
       "justify_content": null,
       "justify_items": null,
       "left": null,
       "margin": null,
       "max_height": null,
       "max_width": null,
       "min_height": null,
       "min_width": null,
       "object_fit": null,
       "object_position": null,
       "order": null,
       "overflow": null,
       "overflow_x": null,
       "overflow_y": null,
       "padding": null,
       "right": null,
       "top": null,
       "visibility": null,
       "width": null
      }
     },
     "a31ec4f074914f5b82936e80f66bdc2c": {
      "model_module": "@jupyter-widgets/base",
      "model_module_version": "1.2.0",
      "model_name": "LayoutModel",
      "state": {
       "_model_module": "@jupyter-widgets/base",
       "_model_module_version": "1.2.0",
       "_model_name": "LayoutModel",
       "_view_count": null,
       "_view_module": "@jupyter-widgets/base",
       "_view_module_version": "1.2.0",
       "_view_name": "LayoutView",
       "align_content": null,
       "align_items": null,
       "align_self": null,
       "border": null,
       "bottom": null,
       "display": null,
       "flex": null,
       "flex_flow": null,
       "grid_area": null,
       "grid_auto_columns": null,
       "grid_auto_flow": null,
       "grid_auto_rows": null,
       "grid_column": null,
       "grid_gap": null,
       "grid_row": null,
       "grid_template_areas": null,
       "grid_template_columns": null,
       "grid_template_rows": null,
       "height": null,
       "justify_content": null,
       "justify_items": null,
       "left": null,
       "margin": null,
       "max_height": null,
       "max_width": null,
       "min_height": null,
       "min_width": null,
       "object_fit": null,
       "object_position": null,
       "order": null,
       "overflow": null,
       "overflow_x": null,
       "overflow_y": null,
       "padding": null,
       "right": null,
       "top": null,
       "visibility": null,
       "width": null
      }
     },
     "ac024c864b63492e9a3bdd82832ba596": {
      "model_module": "@jupyter-widgets/controls",
      "model_module_version": "1.5.0",
      "model_name": "HTMLModel",
      "state": {
       "_dom_classes": [],
       "_model_module": "@jupyter-widgets/controls",
       "_model_module_version": "1.5.0",
       "_model_name": "HTMLModel",
       "_view_count": null,
       "_view_module": "@jupyter-widgets/controls",
       "_view_module_version": "1.5.0",
       "_view_name": "HTMLView",
       "description": "",
       "description_tooltip": null,
       "layout": "IPY_MODEL_adc11ee86bca479fbeb95fb5a0797577",
       "placeholder": "​",
       "style": "IPY_MODEL_455d39c854d54844abd17d4bd245b9dc",
       "value": "Downloading: 100%"
      }
     },
     "adc11ee86bca479fbeb95fb5a0797577": {
      "model_module": "@jupyter-widgets/base",
      "model_module_version": "1.2.0",
      "model_name": "LayoutModel",
      "state": {
       "_model_module": "@jupyter-widgets/base",
       "_model_module_version": "1.2.0",
       "_model_name": "LayoutModel",
       "_view_count": null,
       "_view_module": "@jupyter-widgets/base",
       "_view_module_version": "1.2.0",
       "_view_name": "LayoutView",
       "align_content": null,
       "align_items": null,
       "align_self": null,
       "border": null,
       "bottom": null,
       "display": null,
       "flex": null,
       "flex_flow": null,
       "grid_area": null,
       "grid_auto_columns": null,
       "grid_auto_flow": null,
       "grid_auto_rows": null,
       "grid_column": null,
       "grid_gap": null,
       "grid_row": null,
       "grid_template_areas": null,
       "grid_template_columns": null,
       "grid_template_rows": null,
       "height": null,
       "justify_content": null,
       "justify_items": null,
       "left": null,
       "margin": null,
       "max_height": null,
       "max_width": null,
       "min_height": null,
       "min_width": null,
       "object_fit": null,
       "object_position": null,
       "order": null,
       "overflow": null,
       "overflow_x": null,
       "overflow_y": null,
       "padding": null,
       "right": null,
       "top": null,
       "visibility": null,
       "width": null
      }
     },
     "b28261e9bfdb4f94a7a3c214659e9781": {
      "model_module": "@jupyter-widgets/controls",
      "model_module_version": "1.5.0",
      "model_name": "FloatProgressModel",
      "state": {
       "_dom_classes": [],
       "_model_module": "@jupyter-widgets/controls",
       "_model_module_version": "1.5.0",
       "_model_name": "FloatProgressModel",
       "_view_count": null,
       "_view_module": "@jupyter-widgets/controls",
       "_view_module_version": "1.5.0",
       "_view_name": "ProgressView",
       "bar_style": "success",
       "description": "",
       "description_tooltip": null,
       "layout": "IPY_MODEL_01f76d96b19443fcb9ba4ddd764b0f81",
       "max": 1083389348.0,
       "min": 0.0,
       "orientation": "horizontal",
       "style": "IPY_MODEL_fc08b93f4fa74f12963e233f842fe731",
       "value": 1083389348.0
      }
     },
     "b37cac7de90543f7bb5e6ece9c17f8c4": {
      "model_module": "@jupyter-widgets/base",
      "model_module_version": "1.2.0",
      "model_name": "LayoutModel",
      "state": {
       "_model_module": "@jupyter-widgets/base",
       "_model_module_version": "1.2.0",
       "_model_name": "LayoutModel",
       "_view_count": null,
       "_view_module": "@jupyter-widgets/base",
       "_view_module_version": "1.2.0",
       "_view_name": "LayoutView",
       "align_content": null,
       "align_items": null,
       "align_self": null,
       "border": null,
       "bottom": null,
       "display": null,
       "flex": null,
       "flex_flow": null,
       "grid_area": null,
       "grid_auto_columns": null,
       "grid_auto_flow": null,
       "grid_auto_rows": null,
       "grid_column": null,
       "grid_gap": null,
       "grid_row": null,
       "grid_template_areas": null,
       "grid_template_columns": null,
       "grid_template_rows": null,
       "height": null,
       "justify_content": null,
       "justify_items": null,
       "left": null,
       "margin": null,
       "max_height": null,
       "max_width": null,
       "min_height": null,
       "min_width": null,
       "object_fit": null,
       "object_position": null,
       "order": null,
       "overflow": null,
       "overflow_x": null,
       "overflow_y": null,
       "padding": null,
       "right": null,
       "top": null,
       "visibility": null,
       "width": null
      }
     },
     "b4aa9610fa5b4a71af28f8065c007305": {
      "model_module": "@jupyter-widgets/controls",
      "model_module_version": "1.5.0",
      "model_name": "ProgressStyleModel",
      "state": {
       "_model_module": "@jupyter-widgets/controls",
       "_model_module_version": "1.5.0",
       "_model_name": "ProgressStyleModel",
       "_view_count": null,
       "_view_module": "@jupyter-widgets/base",
       "_view_module_version": "1.2.0",
       "_view_name": "StyleView",
       "bar_color": null,
       "description_width": ""
      }
     },
     "b4da9f01d58b47bf94a9231524a4e303": {
      "model_module": "@jupyter-widgets/controls",
      "model_module_version": "1.5.0",
      "model_name": "FloatProgressModel",
      "state": {
       "_dom_classes": [],
       "_model_module": "@jupyter-widgets/controls",
       "_model_module_version": "1.5.0",
       "_model_name": "FloatProgressModel",
       "_view_count": null,
       "_view_module": "@jupyter-widgets/controls",
       "_view_module_version": "1.5.0",
       "_view_name": "ProgressView",
       "bar_style": "success",
       "description": "",
       "description_tooltip": null,
       "layout": "IPY_MODEL_bd855e144d9c4933967ed6663a13e95d",
       "max": 29.0,
       "min": 0.0,
       "orientation": "horizontal",
       "style": "IPY_MODEL_016fb7e999ba4c98af714763a68ea4f7",
       "value": 29.0
      }
     },
     "bd855e144d9c4933967ed6663a13e95d": {
      "model_module": "@jupyter-widgets/base",
      "model_module_version": "1.2.0",
      "model_name": "LayoutModel",
      "state": {
       "_model_module": "@jupyter-widgets/base",
       "_model_module_version": "1.2.0",
       "_model_name": "LayoutModel",
       "_view_count": null,
       "_view_module": "@jupyter-widgets/base",
       "_view_module_version": "1.2.0",
       "_view_name": "LayoutView",
       "align_content": null,
       "align_items": null,
       "align_self": null,
       "border": null,
       "bottom": null,
       "display": null,
       "flex": null,
       "flex_flow": null,
       "grid_area": null,
       "grid_auto_columns": null,
       "grid_auto_flow": null,
       "grid_auto_rows": null,
       "grid_column": null,
       "grid_gap": null,
       "grid_row": null,
       "grid_template_areas": null,
       "grid_template_columns": null,
       "grid_template_rows": null,
       "height": null,
       "justify_content": null,
       "justify_items": null,
       "left": null,
       "margin": null,
       "max_height": null,
       "max_width": null,
       "min_height": null,
       "min_width": null,
       "object_fit": null,
       "object_position": null,
       "order": null,
       "overflow": null,
       "overflow_x": null,
       "overflow_y": null,
       "padding": null,
       "right": null,
       "top": null,
       "visibility": null,
       "width": null
      }
     },
     "c6e11d9cd31f4591b4e6984ab5c59ef9": {
      "model_module": "@jupyter-widgets/controls",
      "model_module_version": "1.5.0",
      "model_name": "DescriptionStyleModel",
      "state": {
       "_model_module": "@jupyter-widgets/controls",
       "_model_module_version": "1.5.0",
       "_model_name": "DescriptionStyleModel",
       "_view_count": null,
       "_view_module": "@jupyter-widgets/base",
       "_view_module_version": "1.2.0",
       "_view_name": "StyleView",
       "description_width": ""
      }
     },
     "c739720090834bd0a47287db7309d98c": {
      "model_module": "@jupyter-widgets/controls",
      "model_module_version": "1.5.0",
      "model_name": "DescriptionStyleModel",
      "state": {
       "_model_module": "@jupyter-widgets/controls",
       "_model_module_version": "1.5.0",
       "_model_name": "DescriptionStyleModel",
       "_view_count": null,
       "_view_module": "@jupyter-widgets/base",
       "_view_module_version": "1.2.0",
       "_view_name": "StyleView",
       "description_width": ""
      }
     },
     "cff56a92efa84ea29e8002e50d582756": {
      "model_module": "@jupyter-widgets/base",
      "model_module_version": "1.2.0",
      "model_name": "LayoutModel",
      "state": {
       "_model_module": "@jupyter-widgets/base",
       "_model_module_version": "1.2.0",
       "_model_name": "LayoutModel",
       "_view_count": null,
       "_view_module": "@jupyter-widgets/base",
       "_view_module_version": "1.2.0",
       "_view_name": "LayoutView",
       "align_content": null,
       "align_items": null,
       "align_self": null,
       "border": null,
       "bottom": null,
       "display": null,
       "flex": null,
       "flex_flow": null,
       "grid_area": null,
       "grid_auto_columns": null,
       "grid_auto_flow": null,
       "grid_auto_rows": null,
       "grid_column": null,
       "grid_gap": null,
       "grid_row": null,
       "grid_template_areas": null,
       "grid_template_columns": null,
       "grid_template_rows": null,
       "height": null,
       "justify_content": null,
       "justify_items": null,
       "left": null,
       "margin": null,
       "max_height": null,
       "max_width": null,
       "min_height": null,
       "min_width": null,
       "object_fit": null,
       "object_position": null,
       "order": null,
       "overflow": null,
       "overflow_x": null,
       "overflow_y": null,
       "padding": null,
       "right": null,
       "top": null,
       "visibility": null,
       "width": null
      }
     },
     "d9d650a316f245baa9a70a4746dd55f5": {
      "model_module": "@jupyter-widgets/controls",
      "model_module_version": "1.5.0",
      "model_name": "HTMLModel",
      "state": {
       "_dom_classes": [],
       "_model_module": "@jupyter-widgets/controls",
       "_model_module_version": "1.5.0",
       "_model_name": "HTMLModel",
       "_view_count": null,
       "_view_module": "@jupyter-widgets/controls",
       "_view_module_version": "1.5.0",
       "_view_name": "HTMLView",
       "description": "",
       "description_tooltip": null,
       "layout": "IPY_MODEL_1d4ac47ecb714fd9afad10a0936180b8",
       "placeholder": "​",
       "style": "IPY_MODEL_703409418771404496c562a03c876fd1",
       "value": "Downloading: 100%"
      }
     },
     "df58860af60444b3ac2cd744c06b05c6": {
      "model_module": "@jupyter-widgets/base",
      "model_module_version": "1.2.0",
      "model_name": "LayoutModel",
      "state": {
       "_model_module": "@jupyter-widgets/base",
       "_model_module_version": "1.2.0",
       "_model_name": "LayoutModel",
       "_view_count": null,
       "_view_module": "@jupyter-widgets/base",
       "_view_module_version": "1.2.0",
       "_view_name": "LayoutView",
       "align_content": null,
       "align_items": null,
       "align_self": null,
       "border": null,
       "bottom": null,
       "display": null,
       "flex": null,
       "flex_flow": null,
       "grid_area": null,
       "grid_auto_columns": null,
       "grid_auto_flow": null,
       "grid_auto_rows": null,
       "grid_column": null,
       "grid_gap": null,
       "grid_row": null,
       "grid_template_areas": null,
       "grid_template_columns": null,
       "grid_template_rows": null,
       "height": null,
       "justify_content": null,
       "justify_items": null,
       "left": null,
       "margin": null,
       "max_height": null,
       "max_width": null,
       "min_height": null,
       "min_width": null,
       "object_fit": null,
       "object_position": null,
       "order": null,
       "overflow": null,
       "overflow_x": null,
       "overflow_y": null,
       "padding": null,
       "right": null,
       "top": null,
       "visibility": null,
       "width": null
      }
     },
     "e5ee938bd4c24ef883590d96c48c5818": {
      "model_module": "@jupyter-widgets/base",
      "model_module_version": "1.2.0",
      "model_name": "LayoutModel",
      "state": {
       "_model_module": "@jupyter-widgets/base",
       "_model_module_version": "1.2.0",
       "_model_name": "LayoutModel",
       "_view_count": null,
       "_view_module": "@jupyter-widgets/base",
       "_view_module_version": "1.2.0",
       "_view_name": "LayoutView",
       "align_content": null,
       "align_items": null,
       "align_self": null,
       "border": null,
       "bottom": null,
       "display": null,
       "flex": null,
       "flex_flow": null,
       "grid_area": null,
       "grid_auto_columns": null,
       "grid_auto_flow": null,
       "grid_auto_rows": null,
       "grid_column": null,
       "grid_gap": null,
       "grid_row": null,
       "grid_template_areas": null,
       "grid_template_columns": null,
       "grid_template_rows": null,
       "height": null,
       "justify_content": null,
       "justify_items": null,
       "left": null,
       "margin": null,
       "max_height": null,
       "max_width": null,
       "min_height": null,
       "min_width": null,
       "object_fit": null,
       "object_position": null,
       "order": null,
       "overflow": null,
       "overflow_x": null,
       "overflow_y": null,
       "padding": null,
       "right": null,
       "top": null,
       "visibility": null,
       "width": null
      }
     },
     "e63fdd33d79146b1a4be1df3f14d3289": {
      "model_module": "@jupyter-widgets/controls",
      "model_module_version": "1.5.0",
      "model_name": "DescriptionStyleModel",
      "state": {
       "_model_module": "@jupyter-widgets/controls",
       "_model_module_version": "1.5.0",
       "_model_name": "DescriptionStyleModel",
       "_view_count": null,
       "_view_module": "@jupyter-widgets/base",
       "_view_module_version": "1.2.0",
       "_view_name": "StyleView",
       "description_width": ""
      }
     },
     "e870c9b14c4b4b71bf445fb14202b6b8": {
      "model_module": "@jupyter-widgets/controls",
      "model_module_version": "1.5.0",
      "model_name": "HTMLModel",
      "state": {
       "_dom_classes": [],
       "_model_module": "@jupyter-widgets/controls",
       "_model_module_version": "1.5.0",
       "_model_name": "HTMLModel",
       "_view_count": null,
       "_view_module": "@jupyter-widgets/controls",
       "_view_module_version": "1.5.0",
       "_view_name": "HTMLView",
       "description": "",
       "description_tooltip": null,
       "layout": "IPY_MODEL_f86d6ca78ed54397b790a41a3a47c93e",
       "placeholder": "​",
       "style": "IPY_MODEL_c739720090834bd0a47287db7309d98c",
       "value": "Downloading: 100%"
      }
     },
     "ed0d9d342ad143dbac0c499ad69c2727": {
      "model_module": "@jupyter-widgets/controls",
      "model_module_version": "1.5.0",
      "model_name": "HTMLModel",
      "state": {
       "_dom_classes": [],
       "_model_module": "@jupyter-widgets/controls",
       "_model_module_version": "1.5.0",
       "_model_name": "HTMLModel",
       "_view_count": null,
       "_view_module": "@jupyter-widgets/controls",
       "_view_module_version": "1.5.0",
       "_view_name": "HTMLView",
       "description": "",
       "description_tooltip": null,
       "layout": "IPY_MODEL_7f424624d91a4225ad4110b4e46a2bce",
       "placeholder": "​",
       "style": "IPY_MODEL_1e277a40191242cfbb1f872316c0a0e4",
       "value": "Downloading: 100%"
      }
     },
     "f86d6ca78ed54397b790a41a3a47c93e": {
      "model_module": "@jupyter-widgets/base",
      "model_module_version": "1.2.0",
      "model_name": "LayoutModel",
      "state": {
       "_model_module": "@jupyter-widgets/base",
       "_model_module_version": "1.2.0",
       "_model_name": "LayoutModel",
       "_view_count": null,
       "_view_module": "@jupyter-widgets/base",
       "_view_module_version": "1.2.0",
       "_view_name": "LayoutView",
       "align_content": null,
       "align_items": null,
       "align_self": null,
       "border": null,
       "bottom": null,
       "display": null,
       "flex": null,
       "flex_flow": null,
       "grid_area": null,
       "grid_auto_columns": null,
       "grid_auto_flow": null,
       "grid_auto_rows": null,
       "grid_column": null,
       "grid_gap": null,
       "grid_row": null,
       "grid_template_areas": null,
       "grid_template_columns": null,
       "grid_template_rows": null,
       "height": null,
       "justify_content": null,
       "justify_items": null,
       "left": null,
       "margin": null,
       "max_height": null,
       "max_width": null,
       "min_height": null,
       "min_width": null,
       "object_fit": null,
       "object_position": null,
       "order": null,
       "overflow": null,
       "overflow_x": null,
       "overflow_y": null,
       "padding": null,
       "right": null,
       "top": null,
       "visibility": null,
       "width": null
      }
     },
     "fc08b93f4fa74f12963e233f842fe731": {
      "model_module": "@jupyter-widgets/controls",
      "model_module_version": "1.5.0",
      "model_name": "ProgressStyleModel",
      "state": {
       "_model_module": "@jupyter-widgets/controls",
       "_model_module_version": "1.5.0",
       "_model_name": "ProgressStyleModel",
       "_view_count": null,
       "_view_module": "@jupyter-widgets/base",
       "_view_module_version": "1.2.0",
       "_view_name": "StyleView",
       "bar_color": null,
       "description_width": ""
      }
     },
     "fd339986f57b4f3199f1cd661f7d9136": {
      "model_module": "@jupyter-widgets/base",
      "model_module_version": "1.2.0",
      "model_name": "LayoutModel",
      "state": {
       "_model_module": "@jupyter-widgets/base",
       "_model_module_version": "1.2.0",
       "_model_name": "LayoutModel",
       "_view_count": null,
       "_view_module": "@jupyter-widgets/base",
       "_view_module_version": "1.2.0",
       "_view_name": "LayoutView",
       "align_content": null,
       "align_items": null,
       "align_self": null,
       "border": null,
       "bottom": null,
       "display": null,
       "flex": null,
       "flex_flow": null,
       "grid_area": null,
       "grid_auto_columns": null,
       "grid_auto_flow": null,
       "grid_auto_rows": null,
       "grid_column": null,
       "grid_gap": null,
       "grid_row": null,
       "grid_template_areas": null,
       "grid_template_columns": null,
       "grid_template_rows": null,
       "height": null,
       "justify_content": null,
       "justify_items": null,
       "left": null,
       "margin": null,
       "max_height": null,
       "max_width": null,
       "min_height": null,
       "min_width": null,
       "object_fit": null,
       "object_position": null,
       "order": null,
       "overflow": null,
       "overflow_x": null,
       "overflow_y": null,
       "padding": null,
       "right": null,
       "top": null,
       "visibility": null,
       "width": null
      }
     }
    },
    "version_major": 2,
    "version_minor": 0
   }
  }
 },
 "nbformat": 4,
 "nbformat_minor": 5
}
